{
 "metadata": {
  "name": ""
 },
 "nbformat": 3,
 "nbformat_minor": 0,
 "worksheets": [
  {
   "cells": [
    {
     "cell_type": "markdown",
     "metadata": {},
     "source": [
      "# FEEDFORWARD NEURAL NETWORKS"
     ]
    },
    {
     "cell_type": "markdown",
     "metadata": {},
     "source": [
      "- this implementation is an extention of this great blog post: http://rolisz.ro/2013/04/18/neural-networks-in-python/"
     ]
    },
    {
     "cell_type": "code",
     "collapsed": false,
     "input": [
      "import numpy as np\n",
      "\n",
      "def tanh(x):\n",
      "    return np.tanh(x)\n",
      "\n",
      "def tanh_deriv(x):\n",
      "    return 1.0 - x**2\n",
      "\n",
      "def logistic(x):\n",
      "    return 1/(1 + np.exp(-x))\n",
      "\n",
      "def logistic_derivative(x):\n",
      "    return logistic(x)*(1-logistic(x))"
     ],
     "language": "python",
     "metadata": {},
     "outputs": [],
     "prompt_number": 156
    },
    {
     "cell_type": "code",
     "collapsed": false,
     "input": [
      "class NeuralNetwork:\n",
      "\n",
      "    def __init__(self, layers, activation='tanh'):\n",
      "         \"\"\"\n",
      "         :param layers: A list containing the number of units in each layer. Should be at least two values\n",
      "         :param activation: The activation function to be used. Can be \"logistic\" or \"tanh\"\n",
      "         -\"\"\"\n",
      "         if activation == 'logistic':\n",
      "               self.activation = logistic\n",
      "               self.activation_deriv = logistic_derivative\n",
      "         elif activation == 'tanh':\n",
      "               self.activation = tanh\n",
      "               self.activation_deriv = tanh_deriv\n",
      "\n",
      "         # initialize the weights randomly\n",
      "         self.weights = []\n",
      "         for i in range(1, len(layers) - 1):\n",
      "               self.weights.append((2*np.random.random((layers[i - 1] + 1, layers[i] + 1))-1)*0.25)\n",
      "         # initialize the weights between the last hidden layer and the output layer \n",
      "         # note that we don't add 1 to the last dimension\n",
      "         self.weights.append((2*np.random.random((layers[i] + 1, layers[i + 1]))-1)*0.25)\n",
      "         \n",
      "         \n",
      "    def fit(self, X, y, learning_rate=0.2, epochs=10000):\n",
      "         X = np.atleast_2d(X)\n",
      "                   \n",
      "         # add the bias units as the last column of X\n",
      "         bias_column = np.ones((X.shape[0],1))\n",
      "         X = np.hstack((X, bias_column))\n",
      "         y = np.array(y)\n",
      "\n",
      "         # ok let's train this mofo with some SGD\n",
      "         for k in range(epochs):\n",
      "               # select a random training instance\n",
      "               i = np.random.randint(X.shape[0])\n",
      "               a = [X[i]]\n",
      "\n",
      "               # go through the layers, and compute the activations of each node\n",
      "               for l in range(len(self.weights)):\n",
      "                         a.append(self.activation(np.dot(a[l], self.weights[l])))\n",
      "               # compute the classification error\n",
      "               error = y[i] - a[-1]\n",
      "               # the errors between the output layer and l-1\n",
      "               deltas = [error * self.activation_deriv(a[-1])]\n",
      "\n",
      "               # now we're going backwards\n",
      "               for l in range(len(a) - 2, 0, -1): # we need to begin at the second to last layer\n",
      "                    deltas.append(deltas[-1].dot(self.weights[l].T)*self.activation_deriv(a[l]))\n",
      "               # we were appending, but actually moving backwards through the network, so we need to flip the deltas around\n",
      "               deltas.reverse()\n",
      "               for i in range(len(self.weights)):\n",
      "                    layer = np.atleast_2d(a[i])\n",
      "                    delta = np.atleast_2d(deltas[i])\n",
      "                    self.weights[i] += learning_rate * layer.T.dot(delta)\n",
      "                    \n",
      "    def predict(self, x):\n",
      "         x = np.array(x)\n",
      "         # add the bias unit to the input features\n",
      "         x = np.hstack((x, np.ones(1)))\n",
      "         a = x\n",
      "         for l in range(0, len(self.weights)):\n",
      "               a = self.activation(np.dot(a, self.weights[l]))\n",
      "         return a\n",
      "    \n",
      "    def output_activations(self, x):\n",
      "         x = np.array(x)\n",
      "         # add the bias unit to the input features\n",
      "         x = np.hstack((x, np.ones(1)))\n",
      "         activations = []\n",
      "         activations.append(x)\n",
      "         a = x\n",
      "         for l in range(0, len(self.weights)):\n",
      "              a = self.activation(np.dot(a, self.weights[l]))\n",
      "              activations.append(a)\n",
      "         return activations"
     ],
     "language": "python",
     "metadata": {},
     "outputs": [],
     "prompt_number": 157
    },
    {
     "cell_type": "markdown",
     "metadata": {},
     "source": [
      "### Let's learn a XOR classifier (the classic example)"
     ]
    },
    {
     "cell_type": "code",
     "collapsed": false,
     "input": [
      "nn = NeuralNetwork([2,2,1], 'tanh')\n",
      "X = np.array([[0, 0],\n",
      "              [0, 1],\n",
      "              [1, 0],\n",
      "              [1, 1]])\n",
      "y = np.array([0, 1, 1, 0])\n",
      "nn.fit(X, y)\n",
      "for i in [[0, 0], [0, 1], [1, 0], [1,1]]:\n",
      "    print(i,nn.predict(i))"
     ],
     "language": "python",
     "metadata": {},
     "outputs": [
      {
       "output_type": "stream",
       "stream": "stdout",
       "text": [
        "([0, 0], array([  9.53745708e-05]))\n",
        "([0, 1], array([ 0.98738091]))\n",
        "([1, 0], array([ 0.98747907]))\n",
        "([1, 1], array([ 0.00020526]))\n"
       ]
      }
     ],
     "prompt_number": 158
    },
    {
     "cell_type": "markdown",
     "metadata": {},
     "source": [
      "## Cool, let's test the implementation on the famous digits dataset"
     ]
    },
    {
     "cell_type": "code",
     "collapsed": false,
     "input": [
      "import numpy as np\n",
      "from sklearn.datasets import load_digits\n",
      "from sklearn.metrics import confusion_matrix, classification_report\n",
      "from sklearn.preprocessing import LabelBinarizer\n",
      "from sklearn.cross_validation import train_test_split\n",
      "\n",
      "digits = load_digits()\n",
      "X = digits.data\n",
      "y = digits.target\n",
      "X -= X.min()     # normalize the values to bring them into the range 0-1\n",
      "X /= X.max()\n",
      "\n",
      "# nn = NeuralNetwork([64,100,10],'tanh')\n",
      "nn = NeuralNetwork([64, 100, 100, 10],'logistic')\n",
      "X_train, X_test, y_train, y_test = train_test_split(X, y)\n",
      "labels_train = LabelBinarizer().fit_transform(y_train)\n",
      "labels_test = LabelBinarizer().fit_transform(y_test)\n",
      "\n",
      "nn.fit(X_train,labels_train,epochs=30000)\n",
      "predictions = []\n",
      "for i in range(X_test.shape[0]):\n",
      "    o = nn.predict(X_test[i] )\n",
      "    predictions.append(np.argmax(o))\n",
      "print confusion_matrix(y_test,predictions)\n",
      "print classification_report(y_test,predictions)"
     ],
     "language": "python",
     "metadata": {},
     "outputs": [
      {
       "output_type": "stream",
       "stream": "stdout",
       "text": [
        "[[35  0  0  0  1  0  0  0  0  0]\n",
        " [ 1 52  0  0  0  0  0  0  0  0]\n",
        " [ 0  0 48  0  0  0  0  0  0  0]\n",
        " [ 0  0  0 39  0  0  0  0  0  1]\n",
        " [ 0  0  0  0 38  0  0  0  0  4]\n",
        " [ 0  0  0  0  1 52  0  0  0  2]\n",
        " [ 0  0  0  0  0  0 45  0  1  0]\n",
        " [ 0  0  0  0  1  0  0 43  0  1]\n",
        " [ 0  2  0  0  0  0  0  0 41  1]\n",
        " [ 0  1  0  0  0  0  0  0  1 39]]\n",
        "             precision    recall  f1-score   support\n",
        "\n",
        "          0       0.97      0.97      0.97        36\n",
        "          1       0.95      0.98      0.96        53\n",
        "          2       1.00      1.00      1.00        48\n",
        "          3       1.00      0.97      0.99        40\n",
        "          4       0.93      0.90      0.92        42\n",
        "          5       1.00      0.95      0.97        55\n",
        "          6       1.00      0.98      0.99        46\n",
        "          7       1.00      0.96      0.98        45\n",
        "          8       0.95      0.93      0.94        44\n",
        "          9       0.81      0.95      0.88        41\n",
        "\n",
        "avg / total       0.96      0.96      0.96       450\n",
        "\n"
       ]
      }
     ],
     "prompt_number": 159
    },
    {
     "cell_type": "code",
     "collapsed": false,
     "input": [
      "%matplotlib inline\n",
      "import matplotlib.pyplot as plt\n",
      "\n",
      "X = digits.data[60]\n",
      "X -= X.min()     # normalize the values to bring them into the range 0-1\n",
      "X /= X.max()\n",
      "data = X.reshape((8,8))\n",
      "\n",
      "fig, ax = plt.subplots()\n",
      "heatmap = ax.pcolor(data, cmap=plt.cm.Oranges)\n",
      "\n",
      "ax.invert_yaxis()\n",
      "ax.xaxis.tick_top()\n",
      "ax.set_aspect('equal')\n",
      "plt.show()"
     ],
     "language": "python",
     "metadata": {},
     "outputs": [
      {
       "metadata": {},
       "output_type": "display_data",
       "png": "[encoded data removed]",
       "text": [
        "<matplotlib.figure.Figure at 0x5a11950>"
       ]
      }
     ],
     "prompt_number": "*"
    },
    {
     "cell_type": "markdown",
     "metadata": {},
     "source": [
      "## let's vizualize the activations that we learned!"
     ]
    },
    {
     "cell_type": "code",
     "collapsed": false,
     "input": [
      "# NOTE: this is a very inefficient method!\n",
      "all_activations = []\n",
      "layers = [64, 100, 100, 10]\n",
      "for layer_idx in range(1, len(layers)):\n",
      "    layer_activations = []\n",
      "    for node_idx in range(layers[layer_idx]):\n",
      "        training_activations = np.array([nn.output_activations(x)[layer_idx][node_idx] for x in X_train])\n",
      "        weighted_instances = np.array([training_activations[i] * instance for i,instance in enumerate(X_train)])\n",
      "        # get the activation of this node for each instance\n",
      "        # weight each instance by the node's activation\n",
      "        # average, then plot\n",
      "        avg_weights = np.average(weighted_instances, axis=0)\n",
      "        layer_activations.append(avg_weights.reshape((8,8)))\n",
      "    all_activations.append(layer_activations)"
     ],
     "language": "python",
     "metadata": {},
     "outputs": [],
     "prompt_number": "*"
    },
    {
     "cell_type": "code",
     "collapsed": false,
     "input": [
      "import pylab, matplotlib\n",
      "plt.close()\n",
      "\n",
      "# TODO: set the name of the layer we're plotting\n",
      "\n",
      "# plot the inner layers\n",
      "for layer_idx in range(len(all_activations)-1):\n",
      "    fig = plt.figure()\n",
      "    fig = matplotlib.pyplot.gcf()\n",
      "    fig.set_size_inches(18.5,10.5)\n",
      "\n",
      "    for idx,res in enumerate(all_activations[layer_idx]):\n",
      "        ax = fig.add_subplot(10,10,idx)\n",
      "        heatmap = ax.pcolor(res, cmap=plt.cm.Oranges)\n",
      "        ax.xaxis.set_major_locator(pylab.NullLocator())\n",
      "        ax.yaxis.set_major_locator(pylab.NullLocator())\n",
      "    \n",
      "        ax.invert_yaxis()\n",
      "        ax.set_aspect('equal')\n",
      "\n",
      "# plot the last layer\n",
      "fig = plt.figure()\n",
      "fig = matplotlib.pyplot.gcf()\n",
      "\n",
      "for idx,res in enumerate(all_activations[-1]):\n",
      "    ax = fig.add_subplot(1,10,idx)\n",
      "    heatmap = ax.pcolor(res, cmap=plt.cm.Oranges)\n",
      "    ax.xaxis.set_major_locator(pylab.NullLocator())\n",
      "    ax.yaxis.set_major_locator(pylab.NullLocator())\n",
      "\n",
      "    ax.invert_yaxis()\n",
      "    ax.set_aspect('equal')"
     ],
     "language": "python",
     "metadata": {},
     "outputs": [],
     "prompt_number": "*"
    },
    {
     "cell_type": "code",
     "collapsed": false,
     "input": [
      "data = avg_weights.reshape((8,8))\n",
      "fig, ax = plt.subplots()\n",
      "\n",
      "heatmap = ax.pcolor(data, cmap=plt.cm.Oranges)\n",
      "\n",
      "# want a more natural, table-like display\n",
      "ax.invert_yaxis()\n",
      "ax.xaxis.tick_top()\n",
      "ax.set_aspect('equal')\n",
      "plt.show()"
     ],
     "language": "python",
     "metadata": {},
     "outputs": [
      {
       "metadata": {},
       "output_type": "display_data",
       "png": "[encoded data removed]",
       "text": [
        "<matplotlib.figure.Figure at 0x587ef50>"
       ]
      }
     ],
     "prompt_number": 113
    },
    {
     "cell_type": "code",
     "collapsed": false,
     "input": [
      "# Questions:\n",
      "# what is the practical difference between the 'logistic' and 'tanh' activation functions?\n",
      "# what happens when you change the architecture of the network?\n",
      "# what examples does the network get wrong? -- plot them and try to understand why"
     ],
     "language": "python",
     "metadata": {},
     "outputs": []
    }
   ],
   "metadata": {}
  }
 ]
}