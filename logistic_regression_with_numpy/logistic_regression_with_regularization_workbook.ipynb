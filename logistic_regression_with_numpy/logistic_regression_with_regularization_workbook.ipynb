{
 "metadata": {
  "name": "",
  "signature": "sha256:141aa893ff5a18eb515e79653b4175a3c43410351f5071e94cd8c4cef2774612"
 },
 "nbformat": 3,
 "nbformat_minor": 0,
 "worksheets": [
  {
   "cells": [
    {
     "cell_type": "markdown",
     "metadata": {},
     "source": [
      "## Representing the Logistic Regression Hypothesis\n",
      "\n"
     ]
    },
    {
     "cell_type": "markdown",
     "metadata": {},
     "source": [
      "Ok, we want $ 0 \\leq h_\\theta(x) \\leq 1 $\n",
      "            \n",
      "Remember this representation:           \n",
      "$ h_\\theta = g(\\theta^Tx) $      \n",
      "          \n",
      "where:      \n",
      "$ g(z) = \\frac{1}{1 + e^{-z}} $       \n",
      "       \n",
      "So our final representation is:    \n",
      "$ g(z) = \\frac{1}{1 + e^{-\\theta^Tx}} $\n",
      "\n",
      "__this is the *sigmoid* or *logistic* function__"
     ]
    },
    {
     "cell_type": "code",
     "collapsed": false,
     "input": [
      "# define the logistic function\n",
      "import numpy as np\n",
      "def sigmoid(x, theta=np.array(1.0)):\n",
      "    x = np.array(x)\n",
      "    theta = np.array(theta)\n",
      "    return(1 / (1 + np.exp(-x.dot(theta.T))))"
     ],
     "language": "python",
     "metadata": {},
     "outputs": [],
     "prompt_number": 13
    },
    {
     "cell_type": "code",
     "collapsed": false,
     "input": [
      "# cool, let's visualize it (x is 'z', y is 'g(z)')\n",
      "import matplotlib.pyplot as plt\n",
      "from pylab import *\n",
      "\n",
      "# notebook magic\n",
      "%matplotlib inline\n",
      "\n",
      "# map the sigmoid function over a vector of numbers\n",
      "x = np.arange(-6, 6, .01)\n",
      "y = [ sigmoid(n) for n in x ]\n",
      "\n",
      "# add a vertical line at 0\n",
      "plt.axvline(x=0, ymin=0, ymax=1, ls='--')\n",
      "\n",
      "plt.plot(x, y, color='red', lw=2)\n",
      "plt.xlabel('z')\n",
      "plt.ylabel('g(z)')\n",
      "plt.show()"
     ],
     "language": "python",
     "metadata": {},
     "outputs": [
      {
       "metadata": {},
       "output_type": "display_data",
       "png": "[encoded data removed]",
       "text": [
        "<matplotlib.figure.Figure at 0xa80146c>"
       ]
      }
     ],
     "prompt_number": 4
    },
    {
     "cell_type": "markdown",
     "metadata": {},
     "source": [
      "## Implementing Logistic Regression\n",
      "__our goal is to fit the parameters $ \\theta $ to our data__\n",
      "\n",
      "\n",
      "### Interpreting the hypothesis\n",
      "__The key idea is to interpret $ h_\\theta(x) $ as the probability that y = 1 for input x__     \n",
      "In other words, if x >= 0.5 we classify it as 1, if it's < 0.5, we classify it as 0      \n",
      "\n",
      "formally:     \n",
      "$ h_\\theta(x) = p(y=1 | x;\\theta) $\n",
      ">__\"the probability that y=1, given x, parameterized by $ \\theta $\"__ - Andrew Ng        \n",
      "      \n",
      "Note the following as well:     \n",
      "$ p(y=0| x;\\theta) + p(y=1| x;\\theta) = 1 $           \n",
      "$ p(y=0| x;\\theta) = 1 - p(y=1| x;\\theta) $    \n",
      "        \n",
      "Question: what values of z cause g(z) to be > 0.5 ?\n",
      "\n",
      "Note:     \n",
      "$ h_\\theta(x) = g(\\theta^Tx) \\geq 0.5 $ whenever $ \\theta^Tx \\geq 0 $       \n",
      "and conversely:      \n",
      "$ h_\\theta(x) = g(\\theta^Tx) \\lt 0.5 $ whenever $ \\theta^Tx \\lt 0 $"
     ]
    },
    {
     "cell_type": "markdown",
     "metadata": {},
     "source": [
      "### understanding and visualizing the decision boundary\n",
      "Remember that: $ h_\\theta(x) = g(\\theta_0 + \\theta_1x_1 + \\theta_2x_2) $      \n",
      "\n",
      "__possible exercise__:\n",
      "visualize the classes of points for a random array of sample data, and a sample parameter vector     \n",
      "if params are $ \\theta = [ -3,1,1 ] $, then the line for the decision boundary is $ -x + 3 $     "
     ]
    },
    {
     "cell_type": "code",
     "collapsed": false,
     "input": [
      "# notebook magic\n",
      "%matplotlib inline\n",
      "from numpy.random import random, randint\n",
      "\n",
      "def boundary(x):\n",
      "    x = np.float(x)\n",
      "    return (-x + 3)\n",
      "\n",
      "def random_point():\n",
      "    return (1, random()*randint(0,6), random()*randint(0,6))\n",
      "\n",
      "def decide(value):\n",
      "    if value >= 0.5:\n",
      "        return 1\n",
      "    return 0\n",
      "\n",
      "\n",
      "# an example vector of theta values\n",
      "example_theta = np.array([-3,1,1])\n",
      "\n",
      "plt.clf()\n",
      "markers = ['o', '+']\n",
      "colors = ['red', 'blue']\n",
      "points_x = [ random_point() for x in range(100) ]\n",
      "classes = [ decide(sigmoid(p, example_theta)) for p in points_x ]\n",
      "x_1 = [x[1] for x in points_x]\n",
      "x_2 = [x[2] for x in points_x]\n",
      "for i,p in enumerate(points_x):\n",
      "    x_1 = p[1]\n",
      "    x_2 = p[2]\n",
      "    c=classes[i]\n",
      "    plt.scatter(x_1, x_2, s=30.0, c=c, marker=markers[c], color=colors[c])\n",
      "    \n",
      "\n",
      "# map the sigmoid function over a vector of numbers\n",
      "x = np.arange(0, 3, .01)\n",
      "y = [ boundary(n) for n in x ]\n",
      "\n",
      "# add a vertical line at 0\n",
      "#plt.axvline(x=0, ymin=0, ymax=1, ls='--')\n",
      "\n",
      "plt.plot(x, y, color='red', lw=1, ls='--')\n",
      "plt.xlabel('x_1')\n",
      "plt.ylabel('x_2')\n",
      "plt.show()"
     ],
     "language": "python",
     "metadata": {},
     "outputs": [
      {
       "metadata": {},
       "output_type": "display_data",
       "png": "[encoded data removed]",
       "text": [
        "<matplotlib.figure.Figure at 0xb174b0c>"
       ]
      }
     ],
     "prompt_number": 5
    },
    {
     "cell_type": "markdown",
     "metadata": {},
     "source": [
      "## Non-Linear decision boundaries\n",
      "__in logistic regression, to capture a non-linear boundary, we need to add polynomial features__     \n",
      "i.e.    \n",
      "$ h_\\theta(x) = g(\\theta_0 + \\theta_1x_1 + \\theta_2x_2 + \\theta_3x^2_1 + \\theta_4x^2_2) $       \n",
      "       \n",
      "Question: what happens if the $ \\theta $ values for the features above are [-1,0,0,1,1]?      \n",
      "Answer: predict y=1 when $ -1 + x^2_1 + x^2_2 \\geq 0 $       \n",
      "So the decision boundary is: $ x^2_1 + x^2_2 = 1 $ (a circle)               \n",
      "__Remember that the decision boundary is defined by $ \\theta $, not by the dataset__           \n",
      "--> higher-order polynomial features can make arbitrarily complex decision boundaries"
     ]
    },
    {
     "cell_type": "markdown",
     "metadata": {},
     "source": [
      "## Cost Function -- aka Optimization Objective        \n",
      "We have a training set: $ \\{(x^{(1)}, y^{(1)}), (x^{(2)}, y^{(2)}), ...,(x^{(m)}, y^{(m)}) \\} $          \n",
      "__each $x$ is a vector: $ [x_0, x_1, x_2, ..., x_n] $__         \n",
      "* note that $X_0 = 1$ ($\\theta_0$ is the 'bias' term)        \n",
      "since this is a classification problem, $ y \\in \\{0,1\\} $          \n",
      "       \n",
      "and remember:       \n",
      "$ g(z) = \\frac{1}{1 + e^{-\\theta^Tx}} $          \n",
      "        \n",
      "__So how do we find the right $\\theta$s?__     \n",
      "          \n",
      "For linear regression, the cost function was:         \n",
      "$J(\\theta) = \\frac{1}{m}\\sum\\limits_{i=1}^m\\frac{1}{2}(h_\\theta(x^{(i)}) - y^{(i)})^2 $\n",
      "       \n",
      "Let's represent the part after the sum as:     \n",
      "$ cost(h_\\theta(x^{(i)}, y^{(i)}) $           \n",
      "       \n",
      "So, for linear regression:     \n",
      "$ cost(h_\\theta(x^{(i)}, y^{(i)}) = \\frac{1}{2}(h_\\theta(x^{(i)}) - y^{(i)})^2 $          \n",
      "if we just define $h_\\theta(x)$ as the logistic (sigmoid) function, it's not convex    \n",
      "      \n",
      "So, redefine the cost function as:       \n",
      "          \n",
      "$ cost(h_\\theta(x), y) = \n",
      "\\begin{cases}\n",
      "-log(h_\\theta(x))~~if~~y = 1 \\\\\n",
      "-log(1 - h_\\theta(x))~~if~~y = 0\n",
      "\\end{cases} $                 \n",
      "           \n",
      "      \n",
      "### Get ready, something cool is coming....     \n",
      "because $ y = \\{0, 1\\} $      \n",
      "you can write the cost function succinctly as:      \n",
      "       \n",
      "$ cost(h_\\theta(x^{(i)}, y^{(i)}) = -y~log(h_\\theta(x)) - (1-y)log(1 - h_\\theta(x)) $    \n",
      "      \n",
      "__Important: convince yourself that this is true__       \n",
      "       \n",
      "The final version of the LR cost function for the whole dataset:      \n",
      "$ J(\\theta) = -\\frac{1}{m}[\\sum\\limits_{i=1}^m~y^{(i)}~log(h_\\theta(x^{(i)})) - (1-y^{(i)})log(1 - h_\\theta(x^{(i)}))] $\n",
      "                  "
     ]
    },
    {
     "cell_type": "markdown",
     "metadata": {},
     "source": [
      "## Training\n",
      "__We want to find:__\n",
      "       \n",
      "$\\displaystyle \\min_{\\theta}J(\\theta) $\n",
      "       \n",
      "given parameters $x$, we predict the $y$ value by:     \n",
      "$ h_\\theta(x) = \\frac{1}{1 + e^{-\\theta^Tx}} $     \n",
      "aka:    \n",
      "$ p(y=1 | x;\\theta) $            \n",
      "       \n",
      "The update template is:      \n",
      "Repeat {       \n",
      "$~~~~\\theta_j := \\theta_j - \\alpha\\frac{\\partial}{\\partial\\theta_j}J(\\theta) $            \n",
      "}     \n",
      "$\\alpha$ is the learning rate     \n",
      "We update all $\\theta_j$ __simultaeneously__     \n",
      "       \n",
      "__Note: don't fear the partial derivative, it's really simple in practice:__     \n",
      "      \n",
      "$ \\frac{\\partial}{\\partial\\theta_j}J(\\theta) = \\frac{1}{m}\\sum\\limits_{i=1}^m(h_\\theta(x^{(i)}) - y^{(i)})x_j^{(i)} $             \n",
      "       \n",
      "__so the update equation becomes: __      \n",
      "\n",
      "Repeat {       \n",
      "$~~~~\\theta_j := \\theta_j - \\alpha\\frac{1}{m}\\sum\\limits_{i=1}^m(h_\\theta(x^{(i)}) - y^{(i)})x_j^{(i)} $            \n",
      "}      \n",
      "__this is identical to the update rule for gradient descent for Linear Regression__      \n",
      "       \n",
      "the vectorized version of the update template (note the missing $j$s):      \n",
      "\n",
      "$~~~~\\theta := \\theta - \\alpha\\frac{1}{m}\\sum\\limits_{i=1}^m[(h_\\theta(x^{(i)}) - y^{(i)})x^{(i)}] $      "
     ]
    },
    {
     "cell_type": "markdown",
     "metadata": {},
     "source": [
      "### Prepare a Dataset\n"
     ]
    },
    {
     "cell_type": "code",
     "collapsed": false,
     "input": [
      "# some binary classification datasets can be found here: http://www.csie.ntu.edu.tw/~cjlin/libsvmtools/datasets/binary.html\n",
      "from sklearn.datasets import load_iris\n",
      "import random\n",
      "\n",
      "# Get some data and munge it into the format we want\n",
      "data = load_iris()\n",
      "binary_iris = np.array(data.target) == 0\n",
      "\n",
      "class_map = { True: 1.0, False: 0.0 }\n",
      "binary_y = np.array([ class_map[c] for c in binary_iris ])\n",
      "\n",
      "# the full datasets\n",
      "X = data.data[:data.data.shape[0] - np.int(data.data.shape[0] / 3), :]\n",
      "y = binary_y[:data.data.shape[0] - np.int(data.data.shape[0] / 3)]\n",
      "\n",
      "# split test/train\n",
      "id_list = range(len(data.target))\n",
      "random.shuffle(id_list)\n",
      "train_X = data.data[[id_list[:120]]]\n",
      "test_X = data.data[[id_list[120:]]]\n",
      "train_y = binary_y[[id_list[:120]]]\n",
      "test_y = binary_y[[id_list[120:]]]"
     ],
     "language": "python",
     "metadata": {},
     "outputs": [],
     "prompt_number": 6
    },
    {
     "cell_type": "code",
     "collapsed": false,
     "input": [
      "import pandas as pd\n",
      "# scikit-learn dimension reduction\n",
      "from sklearn.decomposition import PCA\n",
      "\n",
      "# scikit-learn dataset processing utils\n",
      "from sklearn.preprocessing import MinMaxScaler\n",
      "\n",
      "df = pd.read_csv('./data/train.csv')\n",
      "df = df.astype('float64')"
     ],
     "language": "python",
     "metadata": {},
     "outputs": [],
     "prompt_number": 10
    },
    {
     "cell_type": "code",
     "collapsed": false,
     "input": [
      "df.shape"
     ],
     "language": "python",
     "metadata": {},
     "outputs": [
      {
       "metadata": {},
       "output_type": "pyout",
       "prompt_number": 11,
       "text": [
        "(42000, 785)"
       ]
      }
     ],
     "prompt_number": 11
    },
    {
     "cell_type": "code",
     "collapsed": false,
     "input": [
      "min_max_scaler = MinMaxScaler()\n",
      "pca = PCA(n_components=80)"
     ],
     "language": "python",
     "metadata": {},
     "outputs": [],
     "prompt_number": 7
    },
    {
     "cell_type": "code",
     "collapsed": false,
     "input": [
      "X = min_max_scaler.fit_transform(df.ix[:9999,1:])\n",
      "train_X = pca.fit_transform(X)\n",
      "\n",
      "train_y = df.ix[:9999,0]\n",
      "\n",
      "# Xt = min_max_scaler.transform(df.ix[35000:,1:])\n",
      "test_X = min_max_scaler.transform(df.ix[35000:,1:])\n",
      "test_X = pca.transform(test_X)\n",
      "# yt = df.ix[35000:,0]\n",
      "test_y = df.ix[35000:,0] \n"
     ],
     "language": "python",
     "metadata": {},
     "outputs": [],
     "prompt_number": 21
    },
    {
     "cell_type": "code",
     "collapsed": false,
     "input": [
      "class_map = { True: 1.0, False: 0.0 }\n",
      "\n",
      "# binarize train_y and test_y\n",
      "train_y = np.array(train_y) == 1\n",
      "test_y = np.array(test_y) == 1\n",
      "\n",
      "train_y = np.array([ class_map[c] for c in train_y ])\n",
      "test_y = np.array([ class_map[c] for c in test_y ])\n",
      "# test_y[:100]"
     ],
     "language": "python",
     "metadata": {},
     "outputs": [],
     "prompt_number": 22
    },
    {
     "cell_type": "code",
     "collapsed": false,
     "input": [],
     "language": "python",
     "metadata": {},
     "outputs": [],
     "prompt_number": 22
    },
    {
     "cell_type": "markdown",
     "metadata": {},
     "source": [
      "### Implement the update equation"
     ]
    },
    {
     "cell_type": "code",
     "collapsed": false,
     "input": [
      "# compute the hypothesis for the row, subtract y, and put the value in every cell of that row\n",
      "# scale each cell by the x_j of that cell (multiply cellwise with the original array)\n",
      "# average columns, and multiply by alpha\n",
      "# subtract that vector from the previous theta to get the new theta for this iteration\n",
      "\n",
      "# this theta will get updated as the algorithm iterates\n",
      "# theta = np.random.uniform(-1.0,1.0,[1,X.shape[1]])\n",
      "theta = np.zeros((1,train_X.shape[1]))\n",
      "original_theta = np.array(theta)\n",
      "lambd = 1.0\n",
      "\n",
      "# completely vectorized implementation\n",
      "# NOTE: not regularized -- do this as an exercise\n",
      "def iterate(X, y, theta, alpha):\n",
      "    updates = np.average(X * (sigmoid(X, theta).T - y).T, axis=0) * alpha \n",
      "    new_theta = theta - updates\n",
      "    return new_theta\n",
      "\n",
      "# just for demo purposes - a more straightforward version of the function above\n",
      "# regularized iterate\n",
      "def regularized_simple_iterate(X, y, theta, alpha):\n",
      "    hypotheses = sigmoid(X, theta)\n",
      "    minus_y = hypotheses.T - y\n",
      "    scaled_by_x = X * minus_y.T\n",
      "    col_averages = np.average(scaled_by_x, axis=0)\n",
      "    updates = col_averages* alpha\n",
      "    \n",
      "    updates2 = col_averages*alpha -lambd*theta[0]*alpha\n",
      "    updates2[0] = updates2[0]+ (lambd*theta[0][0]*alpha)\n",
      "    new_theta = theta - updates\n",
      "    regularized_theta = theta - updates2\n",
      "   \n",
      "    return regularized_theta\n",
      "\n",
      "def simple_iterate(X, y, theta, alpha):\n",
      "    hypotheses = sigmoid(X, theta)\n",
      "    minus_y = hypotheses.T - y\n",
      "    scaled_by_x = X * minus_y.T\n",
      "    col_averages = np.average(scaled_by_x, axis=0)\n",
      "    updates = col_averages* alpha\n",
      "    new_theta = theta - updates\n",
      "    return new_theta"
     ],
     "language": "python",
     "metadata": {},
     "outputs": [],
     "prompt_number": 38
    },
    {
     "cell_type": "markdown",
     "metadata": {},
     "source": [
      "### Evaluate performance"
     ]
    },
    {
     "cell_type": "code",
     "collapsed": false,
     "input": [
      "# let's test the accuracy of our classifier\n",
      "def predict(x, theta):\n",
      "    return sigmoid(x, theta)\n",
      "\n",
      "def classes(y):\n",
      "    if y == 1.0:\n",
      "        return True\n",
      "    return False\n",
      "\n",
      "def check_accuracy(predictions, y):\n",
      "    binarized_predictions = predictions >= 0.5\n",
      "    tf = np.array([ classes(c) for c in y ], dtype='bool')\n",
      "    correct = binarized_predictions[:,0] == tf\n",
      "    score = np.sum([ 1 for s in correct if s == True ]) / np.float(len(correct))\n",
      "    return(score)\n",
      "  "
     ],
     "language": "python",
     "metadata": {},
     "outputs": [],
     "prompt_number": 39
    },
    {
     "cell_type": "code",
     "collapsed": false,
     "input": [
      "# To predict, all we need is a theta - let's check performance before training\n",
      "check_accuracy(predict(test_X, original_theta), test_y)"
     ],
     "language": "python",
     "metadata": {},
     "outputs": [
      {
       "metadata": {},
       "output_type": "pyout",
       "prompt_number": 40,
       "text": [
        "0.11157142857142857"
       ]
      }
     ],
     "prompt_number": 40
    },
    {
     "cell_type": "markdown",
     "metadata": {},
     "source": [
      "### Regularized Cost Function"
     ]
    },
    {
     "cell_type": "code",
     "collapsed": false,
     "input": [
      "# note: this is just for sanity checks\n",
      "def cost_function(X, answers, theta):\n",
      "    total = 0.0\n",
      "    for x,y in zip(X,answers):\n",
      "        hyp = sigmoid(x, theta)\n",
      "        total += ( (-y * np.log(hyp)) - ((1-y) * np.log(1-hyp)) ) \n",
      "    cost = (total / len(answers))\n",
      "    return cost"
     ],
     "language": "python",
     "metadata": {},
     "outputs": [],
     "prompt_number": 42
    },
    {
     "cell_type": "code",
     "collapsed": false,
     "input": [
      "# note: this is just for sanity checks\n",
      "def regularized_cost_function(X, answers, theta):\n",
      "    total = 0.0\n",
      "    for x,y in zip(X,answers):\n",
      "        hyp = sigmoid(x, theta)\n",
      "        total += ( (-y * np.log(hyp)) - ((1-y) * np.log(1-hyp)) ) \n",
      "    cost = (total / len(answers)) + ((lambd/len(answers))*sum(theta[1:]*theta[1:]))\n",
      "    return cost"
     ],
     "language": "python",
     "metadata": {},
     "outputs": [],
     "prompt_number": 41
    },
    {
     "cell_type": "code",
     "collapsed": false,
     "input": [
      "# print the original theta, and the output of the cost function\n",
      "print(theta)\n",
      "print(cost_function(train_X, train_y, theta))\n",
      "test =  []\n",
      "\n",
      "def gradient_descent(X, y, theta, alpha, num_iterations=100):\n",
      "    working_theta = np.array(theta)\n",
      "    all_cost =[]\n",
      "    for i in range(num_iterations):\n",
      "#         working_theta = regularized_simple_iterate(X, y, working_theta, alpha)\n",
      "        working_theta = simple_iterate(X, y, working_theta, alpha)\n",
      "#         all_cost.append(regularized_cost_function(train_X, train_y, working_theta))\n",
      "        all_cost.append(cost_function(train_X, train_y, working_theta))\n",
      "        #j = j+1\n",
      "    test.append(all_cost)    \n",
      "    return np.array(working_theta)\n",
      "        \n",
      "num_iterations = 30\n",
      "j = 0   \n",
      "\n",
      "alpha = 0.005\n",
      "\n",
      "best_theta = gradient_descent(train_X, train_y, theta, alpha, num_iterations)"
     ],
     "language": "python",
     "metadata": {},
     "outputs": [
      {
       "output_type": "stream",
       "stream": "stdout",
       "text": [
        "[[ 0.  0.  0.  0.  0.  0.  0.  0.  0.  0.  0.  0.  0.  0.  0.  0.  0.  0.\n",
        "   0.  0.  0.  0.  0.  0.  0.  0.  0.  0.  0.  0.  0.  0.  0.  0.  0.  0.\n",
        "   0.  0.  0.  0.  0.  0.  0.  0.  0.  0.  0.  0.  0.  0.  0.  0.  0.  0.\n",
        "   0.  0.  0.  0.  0.  0.  0.  0.  0.  0.  0.  0.  0.  0.  0.  0.  0.  0.\n",
        "   0.  0.  0.  0.  0.  0.  0.  0.]]\n",
        "[ 0.69314718]"
       ]
      },
      {
       "output_type": "stream",
       "stream": "stdout",
       "text": [
        "\n"
       ]
      }
     ],
     "prompt_number": 48
    },
    {
     "cell_type": "code",
     "collapsed": false,
     "input": [
      "predictions = predict(test_X, best_theta)    \n",
      "check_accuracy(predictions, test_y)"
     ],
     "language": "python",
     "metadata": {},
     "outputs": [
      {
       "metadata": {},
       "output_type": "pyout",
       "prompt_number": 49,
       "text": [
        "0.66400000000000003"
       ]
      }
     ],
     "prompt_number": 49
    },
    {
     "cell_type": "code",
     "collapsed": false,
     "input": [
      "# test with some different learning rates\n",
      "alpha = [0.005,0.01,0.03,0.06,0.1]\n",
      "for i in alpha:\n",
      "    best_theta = gradient_descent(train_X, train_y, theta, i, num_iterations)\n",
      "\n",
      "    j=j+1\n",
      "    print i;\n",
      "all_cost\n",
      "\n",
      "plt.clf()\n",
      "plt.plot(test[0],color='yellow',lw=2)\n",
      "plt.plot(test[1],color='blue', lw=2)\n",
      "plt.plot(test[2],color='green', lw=2)\n",
      "plt.plot(test[3],color='red', lw=2)\n",
      "plt.plot(test[4],color='grey', lw=2)\n",
      "plt.xlabel('hypothesis')\n",
      "plt.ylabel('cost')\n",
      "plt.ylim([0,0.2])\n",
      "plt.show()"
     ],
     "language": "python",
     "metadata": {},
     "outputs": []
    },
    {
     "cell_type": "code",
     "collapsed": false,
     "input": [
      "# the following graph shows what the cost function looks like for y = 1 and y = 0\n",
      "plt.clf()\n",
      "\n",
      "def positive_cost(hyp_value):\n",
      "    return -(np.log(hyp_value))\n",
      "\n",
      "def negative_cost(hyp_value):\n",
      "    return -(np.log(1 - hyp_value))\n",
      "\n",
      "# map cost function over some numbers\n",
      "pos1_x = np.arange(0.01, 1, .01)\n",
      "pos1_y = [ positive_cost(n) for n in pos1_x ]\n",
      "\n",
      "\n",
      "neg1_x = np.arange(0.01, 1, .01)\n",
      "neg1_y = [ negative_cost(n) for n in neg1_x ]\n",
      "\n",
      "# add a horizontal line at 0\n",
      "#plt.axvline(x=0, ymin=0, ymax=1, ls='--')\n",
      "\n",
      "plt.plot(pos1_x, pos1_y, color='blue', lw=2)\n",
      "plt.plot(neg1_x, neg1_y, color='red', lw=2)\n",
      "\n",
      "plt.xlabel('hypothesis')\n",
      "plt.ylabel('cost')\n",
      "plt.show()"
     ],
     "language": "python",
     "metadata": {},
     "outputs": []
    },
    {
     "cell_type": "markdown",
     "metadata": {},
     "source": [
      "__Question: Explain why this is a good cost function for learning the parameters of a binary classifier__"
     ]
    },
    {
     "cell_type": "markdown",
     "metadata": {},
     "source": [
      "### Exercises:      \n",
      "(1) Plot the cost function as logistic regression iterates      \n",
      "(2) Try several different learning rates (alphas), and plot what happens when alpha changes (your plot should have several lines)     \n",
      "(3) Load a new dataset and try Logistic Regression on that dataset     "
     ]
    },
    {
     "cell_type": "code",
     "collapsed": false,
     "input": [],
     "language": "python",
     "metadata": {},
     "outputs": [],
     "prompt_number": 12
    },
    {
     "cell_type": "code",
     "collapsed": false,
     "input": [],
     "language": "python",
     "metadata": {},
     "outputs": [],
     "prompt_number": 12
    },
    {
     "cell_type": "code",
     "collapsed": false,
     "input": [],
     "language": "python",
     "metadata": {},
     "outputs": [],
     "prompt_number": 12
    },
    {
     "cell_type": "code",
     "collapsed": false,
     "input": [],
     "language": "python",
     "metadata": {},
     "outputs": [],
     "prompt_number": 12
    },
    {
     "cell_type": "code",
     "collapsed": false,
     "input": [],
     "language": "python",
     "metadata": {},
     "outputs": [],
     "prompt_number": 12
    }
   ],
   "metadata": {}
  }
 ]
}