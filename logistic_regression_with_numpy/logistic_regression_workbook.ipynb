{
 "metadata": {
  "name": ""
 },
 "nbformat": 3,
 "nbformat_minor": 0,
 "worksheets": [
  {
   "cells": [
    {
     "cell_type": "code",
     "collapsed": false,
     "input": [
      "# we want to show Logistic Regression with/without regularization\n",
      "# visualize the change at each iteration (with/without regularization)\n",
      "# visualize changing parameters"
     ],
     "language": "python",
     "metadata": {},
     "outputs": [],
     "prompt_number": 1
    },
    {
     "cell_type": "markdown",
     "metadata": {},
     "source": [
      "## Representing the Logistic Regression Hypothesis\n",
      "\n"
     ]
    },
    {
     "cell_type": "markdown",
     "metadata": {},
     "source": [
      "Ok, we want $ 0 \\leq h_\\theta(x) \\leq 1 $\n",
      "            \n",
      "Remember this representation:           \n",
      "$ h_\\theta = g(\\theta^Tx) $      \n",
      "          \n",
      "where:      \n",
      "$ g(z) = \\frac{1}{1 + e^{-z}} $       \n",
      "       \n",
      "So our final representation is:    \n",
      "$ g(z) = \\frac{1}{1 + e^{-\\theta^Tx}} $\n",
      "\n",
      "__this is the *sigmoid* or *logistic* function__"
     ]
    },
    {
     "cell_type": "code",
     "collapsed": false,
     "input": [
      "# define the logistic function\n",
      "import numpy as np\n",
      "def sigmoid(x, theta=np.array(1.0)):\n",
      "    np.atleast_1d(x)\n",
      "    np.atleast_1d(theta)\n",
      "    return (1.0 / ( 1 + (np.e ** -(theta.dot(x)))))"
     ],
     "language": "python",
     "metadata": {},
     "outputs": [],
     "prompt_number": 20
    },
    {
     "cell_type": "code",
     "collapsed": false,
     "input": [
      "# cool, let's visualize it\n",
      "import matplotlib.pyplot as plt\n",
      "from pylab import *\n",
      "\n",
      "# notebook magic\n",
      "%matplotlib inline\n",
      "\n",
      "# map the sigmoid function over a vector of numbers\n",
      "x = np.arange(-6, 6, .01)\n",
      "y = [ sigmoid(n) for n in x ]\n",
      "\n",
      "# add a vertical line at 0\n",
      "plt.axvline(x=0, ymin=0, ymax=1, ls='--')\n",
      "\n",
      "plt.plot(x, y, color='red', lw=2)\n",
      "plt.show()"
     ],
     "language": "python",
     "metadata": {},
     "outputs": [
      {
       "metadata": {},
       "output_type": "display_data",
       "png": "[encoded data removed]",
       "text": [
        "<matplotlib.figure.Figure at 0x4330d50>"
       ]
      }
     ],
     "prompt_number": 29
    },
    {
     "cell_type": "code",
     "collapsed": false,
     "input": [
      "# from: http://jakevdp.github.io/blog/2012/08/18/matplotlib-animation-tutorial/\n",
      "\n",
      "\"\"\"\n",
      "A simple example of an animated plot... In 3D!\n",
      "\"\"\"\n",
      "import numpy as np\n",
      "import matplotlib.pyplot as plt\n",
      "import mpl_toolkits.mplot3d.axes3d as p3\n",
      "import matplotlib.animation as animation\n",
      "\n",
      "def Gen_RandLine(length, dims=2) :\n",
      "    \"\"\"\n",
      "    Create a line using a random walk algorithm\n",
      "\n",
      "    length is the number of points for the line.\n",
      "    dims is the number of dimensions the line has.\n",
      "    \"\"\"\n",
      "    lineData = np.empty((dims, length))\n",
      "    lineData[:, 0] = np.random.rand(dims)\n",
      "    for index in range(1, length) :\n",
      "        # scaling the random numbers by 0.1 so\n",
      "        # movement is small compared to position.\n",
      "        # subtraction by 0.5 is to change the range to [-0.5, 0.5]\n",
      "        # to allow a line to move backwards.\n",
      "        step = ((np.random.rand(dims) - 0.5) * 0.1)\n",
      "        lineData[:, index] = lineData[:, index-1] + step\n",
      "\n",
      "    return lineData\n",
      "\n",
      "def update_lines(num, dataLines, lines) :\n",
      "    for line, data in zip(lines, dataLines) :\n",
      "        # NOTE: there is no .set_data() for 3 dim data...\n",
      "        line.set_data(data[0:2, :num])\n",
      "        line.set_3d_properties(data[2,:num])\n",
      "    return lines\n",
      "\n",
      "# Attaching 3D axis to the figure\n",
      "fig = plt.figure()\n",
      "ax = p3.Axes3D(fig)\n",
      "\n",
      "# Fifty lines of random 3-D lines\n",
      "data = [Gen_RandLine(25, 3) for index in range(50)]\n",
      "\n",
      "# Creating fifty line objects.\n",
      "# NOTE: Can't pass empty arrays into 3d version of plot()\n",
      "lines = [ax.plot(dat[0, 0:1], dat[1, 0:1], dat[2, 0:1])[0] for dat in data]\n",
      "\n",
      "# Setting the axes properties\n",
      "ax.set_xlim3d([0.0, 1.0])\n",
      "ax.set_xlabel('X')\n",
      "\n",
      "ax.set_ylim3d([0.0, 1.0])\n",
      "ax.set_ylabel('Y')\n",
      "\n",
      "ax.set_zlim3d([0.0, 1.0])\n",
      "ax.set_zlabel('Z')\n",
      "\n",
      "ax.set_title('3D Test')\n",
      "\n",
      "# Creating the Animation object\n",
      "line_ani = animation.FuncAnimation(fig, update_lines, 25, fargs=(data, lines),\n",
      "                              interval=50, blit=False)\n",
      "\n",
      "plt.show()"
     ],
     "language": "python",
     "metadata": {},
     "outputs": [],
     "prompt_number": 1
    },
    {
     "cell_type": "code",
     "collapsed": false,
     "input": [],
     "language": "python",
     "metadata": {},
     "outputs": []
    }
   ],
   "metadata": {}
  }
 ]
}