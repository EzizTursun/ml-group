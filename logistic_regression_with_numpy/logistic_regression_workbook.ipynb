{
 "metadata": {
  "name": ""
 },
 "nbformat": 3,
 "nbformat_minor": 0,
 "worksheets": [
  {
   "cells": [
    {
     "cell_type": "code",
     "collapsed": false,
     "input": [
      "# we want to show Logistic Regression with/without regularization\n",
      "# visualize the change at each iteration (with/without regularization)\n",
      "# visualize changing parameters"
     ],
     "language": "python",
     "metadata": {},
     "outputs": [],
     "prompt_number": 1
    },
    {
     "cell_type": "markdown",
     "metadata": {},
     "source": [
      "## Representing the Logistic Regression Hypothesis\n",
      "\n"
     ]
    },
    {
     "cell_type": "markdown",
     "metadata": {},
     "source": [
      "Ok, we want $ 0 \\leq h_\\theta(x) \\leq 1 $\n",
      "            \n",
      "Remember this representation:           \n",
      "$ h_\\theta = g(\\theta^Tx) $      \n",
      "          \n",
      "where:      \n",
      "$ g(z) = \\frac{1}{1 + e^{-z}} $       \n",
      "       \n",
      "So our final representation is:    \n",
      "$ g(z) = \\frac{1}{1 + e^{-\\theta^Tx}} $\n",
      "\n",
      "__this is the *sigmoid* or *logistic* function__"
     ]
    },
    {
     "cell_type": "code",
     "collapsed": false,
     "input": [
      "# define the logistic function\n",
      "import numpy as np\n",
      "def sigmoid(x, theta=np.array(1.0)):\n",
      "    x = np.array(x)\n",
      "    theta = np.array(theta)\n",
      "    return(1 / (1 + np.exp(-x.dot(theta.T))))"
     ],
     "language": "python",
     "metadata": {},
     "outputs": [],
     "prompt_number": 2
    },
    {
     "cell_type": "code",
     "collapsed": false,
     "input": [
      "# cool, let's visualize it (x is 'z', y is 'g(z)')\n",
      "import matplotlib.pyplot as plt\n",
      "from pylab import *\n",
      "\n",
      "# notebook magic\n",
      "%matplotlib inline\n",
      "\n",
      "# map the sigmoid function over a vector of numbers\n",
      "x = np.arange(-6, 6, .01)\n",
      "y = [ sigmoid(n) for n in x ]\n",
      "\n",
      "# add a vertical line at 0\n",
      "plt.axvline(x=0, ymin=0, ymax=1, ls='--')\n",
      "\n",
      "plt.plot(x, y, color='red', lw=2)\n",
      "plt.xlabel('z')\n",
      "plt.ylabel('g(z)')\n",
      "plt.show()"
     ],
     "language": "python",
     "metadata": {},
     "outputs": [
      {
       "metadata": {},
       "output_type": "display_data",
       "png": "[encoded data removed]",
       "text": [
        "<matplotlib.figure.Figure at 0x46faf50>"
       ]
      }
     ],
     "prompt_number": 3
    },
    {
     "cell_type": "markdown",
     "metadata": {},
     "source": [
      "## Implementing Logistic Regression\n",
      "__our goal is to fit the parameters $ \\theta $ to our data__\n",
      "\n",
      "\n",
      "### Interpreting the hypothesis\n",
      "__The key idea is to interpret $ h_\\theta(x) $ as the probability that y = 1 for input x__     \n",
      "In other words, if x >= 0.5 we classify it as 1, if it's < 0.5, we classify it as 0      \n",
      "\n",
      "formally:     \n",
      "$ h_\\theta(x) = p(y=1 | x;\\theta) $\n",
      ">__\"the probability that y=1, given x, parameterized by $ \\theta $\"__ - Andrew Ng        \n",
      "      \n",
      "Note the following as well:     \n",
      "$ p(y=0| x;\\theta) + p(y=1| x;\\theta) = 1 $           \n",
      "$ p(y=0| x;\\theta) = 1 - p(y=1| x;\\theta) $    \n",
      "        \n",
      "Question: what values of z cause g(z) to be > 0.5 ?\n",
      "\n",
      "Note:     \n",
      "$ h_\\theta(x) = g(\\theta^Tx) \\geq 0.5 $ whenever $ \\theta^Tx \\geq 0 $       \n",
      "and conversely:      \n",
      "$ h_\\theta(x) = g(\\theta^Tx) \\lt 0.5 $ whenever $ \\theta^Tx \\lt 0 $"
     ]
    },
    {
     "cell_type": "markdown",
     "metadata": {},
     "source": [
      "### understanding and visualizing the decision boundary\n",
      "Remember that: $ h_\\theta(x) = g(\\theta_0 + \\theta_1x_1 + \\theta_2x_2) $      \n",
      "\n",
      "__possible exercise__:\n",
      "visualize the classes of points for a random array of sample data, and a sample parameter vector     \n",
      "if params are $ \\theta = [ -3,1,1 ] $, then the line for the decision boundary is $ -x + 3 $     "
     ]
    },
    {
     "cell_type": "code",
     "collapsed": false,
     "input": [
      "# notebook magic\n",
      "%matplotlib inline\n",
      "from numpy.random import random, randint\n",
      "\n",
      "def boundary(x):\n",
      "    x = np.float(x)\n",
      "    return (-x + 3)\n",
      "\n",
      "def random_point():\n",
      "    return (1, random()*randint(0,6), random()*randint(0,6))\n",
      "\n",
      "def decide(value):\n",
      "    if value >= 0.5:\n",
      "        return 1\n",
      "    return 0\n",
      "\n",
      "\n",
      "# an example vector of theta values\n",
      "example_theta = np.array([-3,1,1])\n",
      "\n",
      "plt.clf()\n",
      "markers = ['o', '+']\n",
      "colors = ['red', 'blue']\n",
      "points_x = [ random_point() for x in range(10) ]\n",
      "classes = [ decide(sigmoid(p, example_theta)) for p in points_x ]\n",
      "x_1 = [x[1] for x in points_x]\n",
      "x_2 = [x[2] for x in points_x]\n",
      "for i,p in enumerate(points_x):\n",
      "    x_1 = p[1]\n",
      "    x_2 = p[2]\n",
      "    c=classes[i]\n",
      "    plt.scatter(x_1, x_2, s=30.0, c=c, marker=markers[c], color=colors[c])\n",
      "    \n",
      "\n",
      "# map the sigmoid function over a vector of numbers\n",
      "x = np.arange(0, 3, .01)\n",
      "y = [ boundary(n) for n in x ]\n",
      "\n",
      "# add a vertical line at 0\n",
      "#plt.axvline(x=0, ymin=0, ymax=1, ls='--')\n",
      "\n",
      "plt.plot(x, y, color='red', lw=1, ls='--')\n",
      "plt.xlabel('x_1')\n",
      "plt.ylabel('x_2')\n",
      "plt.show()"
     ],
     "language": "python",
     "metadata": {},
     "outputs": [
      {
       "metadata": {},
       "output_type": "display_data",
       "png": "[encoded data removed]",
       "text": [
        "<matplotlib.figure.Figure at 0x46fab10>"
       ]
      }
     ],
     "prompt_number": 4
    },
    {
     "cell_type": "markdown",
     "metadata": {},
     "source": [
      "## Non-Linear decision boundaries\n",
      "__in logistic regression, to capture a non-linear boundary, we need to add polynomial features__     \n",
      "i.e.    \n",
      "$ h_\\theta(x) = g(\\theta_0 + \\theta_1x_1 + \\theta_2x_2 + \\theta_3x^2_1 + \\theta_4x^2_2) $       \n",
      "       \n",
      "Question: what happens if the $ \\theta $ values for the features above are [-1,0,0,1,1]?      \n",
      "Answer: predict y=1 when $ -1 + x^2_1 + x^2_2 \\geq 0 $       \n",
      "So the decision boundary is: $ x^2_1 + x^2_2 = 1 $ (a circle)               \n",
      "__Remember that the decision boundary is defined by $ \\theta $, not by the dataset__           \n",
      "--> higher-order polynomial features can make arbitrarily complex decision boundaries"
     ]
    },
    {
     "cell_type": "markdown",
     "metadata": {},
     "source": [
      "## Cost Function -- aka Optimization Objective        \n",
      "We have a training set: $ \\{(x^{(1)}, y^{(1)}), (x^{(2)}, y^{(2)}), ...,(x^{(m)}, y^{(m)}) \\} $          \n",
      "__each $x$ is a vector: $ [x_0, x_1, x_2, ..., x_n] $__         \n",
      "* note that $X_0 = 1$ ($\\theta_0$ is the 'bias' term)        \n",
      "since this is a classification problem, $ y \\in \\{0,1\\} $          \n",
      "       \n",
      "and remember:       \n",
      "$ g(z) = \\frac{1}{1 + e^{-\\theta^Tx}} $          \n",
      "        \n",
      "__So how do we find the right $\\theta$s?__     \n",
      "          \n",
      "For linear regression, the cost function was:         \n",
      "$J(\\theta) = \\frac{1}{m}\\sum\\limits_{i=1}^m\\frac{1}{2}(h_\\theta(x^{(i)}) - y^{(i)})^2 $\n",
      "       \n",
      "Let's represent the part after the sum as:     \n",
      "$ cost(h_\\theta(x^{(i)}, y^{(i)}) $           \n",
      "       \n",
      "So, for linear regression:     \n",
      "$ cost(h_\\theta(x^{(i)}, y^{(i)}) = \\frac{1}{2}(h_\\theta(x^{(i)}) - y^{(i)})^2 $          \n",
      "if we just define $h_\\theta(x)$ as the logistic (sigmoid) function, it's not convex    \n",
      "      \n",
      "So, redefine the cost function as:       \n",
      "          \n",
      "$ cost(h_\\theta(x), y) = \n",
      "\\begin{cases}\n",
      "-log(h_\\theta(x))~~if~~y = 1 \\\\\n",
      "-log(1 - h_\\theta(x))~~if~~y = 0\n",
      "\\end{cases} $                 \n",
      "           \n",
      "      \n",
      "### Get ready, something cool is coming....     \n",
      "because $ y = \\{0, 1\\} $      \n",
      "you can write the cost function succinctly as:      \n",
      "       \n",
      "$ cost(h_\\theta(x^{(i)}, y^{(i)}) = -y~log(h_\\theta(x)) - (1-y)log(1 - h_\\theta(x)) $    \n",
      "      \n",
      "__Important: convince yourself that this is true__       \n",
      "       \n",
      "The final version of the LR cost function for the whole dataset:      \n",
      "$ J(\\theta) = -\\frac{1}{m}[\\sum\\limits_{i=1}^m~y^{(i)}~log(h_\\theta(x^{(i)})) - (1-y^{(i)})log(1 - h_\\theta(x^{(i)}))] $\n",
      "                  "
     ]
    },
    {
     "cell_type": "markdown",
     "metadata": {},
     "source": [
      "## Training\n",
      "__We want to find:__\n",
      "       \n",
      "$\\displaystyle \\min_{\\theta}J(\\theta) $\n",
      "       \n",
      "given parameters $x$, we predict the $y$ value by:     \n",
      "$ h_\\theta(x) = \\frac{1}{1 + e^{-\\theta^Tx}} $     \n",
      "aka:    \n",
      "$ p(y=1 | x;\\theta) $            \n",
      "       \n",
      "The update template is:      \n",
      "Repeat {       \n",
      "$~~~~\\theta_j := \\theta_j - \\alpha\\frac{\\partial}{\\partial\\theta_j}J(\\theta) $            \n",
      "}     \n",
      "$\\alpha$ is the learning rate     \n",
      "We update all $\\theta_j$ __simultaeneously__     \n",
      "       \n",
      "__Note: don't fear the partial derivative, it's really simple in practice:__     \n",
      "      \n",
      "$ \\frac{\\partial}{\\partial\\theta_j}J(\\theta) = \\frac{1}{m}\\sum\\limits_{i=1}^m(h_\\theta(x^{(i)}) - y^{(i)})x_j^{(i)} $             \n",
      "       \n",
      "__so the update equation becomes: __      \n",
      "\n",
      "Repeat {       \n",
      "$~~~~\\theta_j := \\theta_j - \\alpha\\frac{1}{m}\\sum\\limits_{i=1}^m(h_\\theta(x^{(i)}) - y^{(i)})x_j^{(i)} $            \n",
      "}      \n",
      "__this is identical to the update rule for gradient descent for Linear Regression__      \n",
      "       \n",
      "the vectorized version of the update template (note the missing $j$s):      \n",
      "\n",
      "$~~~~\\theta := \\theta - \\alpha\\frac{1}{m}\\sum\\limits_{i=1}^m[(h_\\theta(x^{(i)}) - y^{(i)})x^{(i)}] $      "
     ]
    },
    {
     "cell_type": "markdown",
     "metadata": {},
     "source": [
      "### Prepare a Dataset\n"
     ]
    },
    {
     "cell_type": "code",
     "collapsed": false,
     "input": [
      "# some binary classification datasets can be found here: http://www.csie.ntu.edu.tw/~cjlin/libsvmtools/datasets/binary.html\n",
      "from sklearn.datasets import load_iris\n",
      "import random\n",
      "\n",
      "# Get some data and munge it into the format we want\n",
      "data = load_iris()\n",
      "binary_iris = np.array(data.target) == 0\n",
      "\n",
      "class_map = { True: 1.0, False: 0.0 }\n",
      "binary_y = np.array([ class_map[c] for c in binary_iris ])\n",
      "\n",
      "# the full datasets\n",
      "X = data.data[:data.data.shape[0] - np.int(data.data.shape[0] / 3), :]\n",
      "y = binary_y[:data.data.shape[0] - np.int(data.data.shape[0] / 3)]\n",
      "\n",
      "# split test/train\n",
      "id_list = range(len(data.target))\n",
      "random.shuffle(id_list)\n",
      "train_X = data.data[[id_list[:120]]]\n",
      "test_X = data.data[[id_list[120:]]]\n",
      "train_y = binary_y[[id_list[:120]]]\n",
      "test_y = binary_y[[id_list[120:]]]"
     ],
     "language": "python",
     "metadata": {},
     "outputs": [],
     "prompt_number": 12
    },
    {
     "cell_type": "code",
     "collapsed": false,
     "input": [
      "# compute the hypothesis for the row, subtract y, and put the value in every cell of that row\n",
      "# scale each cell by the x_j of that cell (multiply cellwise with the original array)\n",
      "# average columns, and multiply by alpha\n",
      "# subtract that vector from the previous theta to get the new theta for this iteration\n",
      "\n",
      "# this theta will get updated as the algorithm iterates\n",
      "# theta = np.random.uniform(-1.0,1.0,[1,X.shape[1]])\n",
      "theta = np.zeros((1,X.shape[1]))\n",
      "original_theta = np.array(theta)\n",
      "\n",
      "# alpha = 0.1\n",
      "\n",
      "# completely vectorized implementation\n",
      "def iterate(X, y, theta, alpha):\n",
      "    updates = np.average(X * (sigmoid(X, theta).T - y).T, axis=0) * alpha\n",
      "    new_theta = theta - updates\n",
      "    return new_theta\n",
      "\n",
      "# just for demo purposes - a more straightforward version of the function above\n",
      "def simple_iterate(X, y, theta, alpha):\n",
      "    hypotheses = sigmoid(X, theta)\n",
      "    minus_y = hypotheses.T - y\n",
      "    scaled_by_x = X * minus_y.T\n",
      "    col_averages = np.average(scaled_by_x, axis=0)\n",
      "    updates = col_averages * alpha\n",
      "    new_theta = theta - updates\n",
      "    return new_theta"
     ],
     "language": "python",
     "metadata": {},
     "outputs": [],
     "prompt_number": 13
    },
    {
     "cell_type": "code",
     "collapsed": false,
     "input": [
      "# let's test the accuracy of our classifier with different parameters\n",
      "# sanity check -- let's check its performance on the training data\n",
      "def predict(x, theta):\n",
      "    return sigmoid(x, theta)\n",
      "\n",
      "def classes(y):\n",
      "    if y == 1.0:\n",
      "        return True\n",
      "    return False\n",
      "\n",
      "def check_accuracy(predictions, y):\n",
      "    binarized_predictions = predictions >= 0.5\n",
      "    tf = np.array([ classes(c) for c in y ], dtype='bool')\n",
      "    correct = binarized_predictions[:,0] == tf\n",
      "    score = np.sum([ 1 for s in correct if s == True ]) / np.float(len(correct))\n",
      "    return(score)\n",
      "  "
     ],
     "language": "python",
     "metadata": {},
     "outputs": [],
     "prompt_number": 14
    },
    {
     "cell_type": "code",
     "collapsed": false,
     "input": [
      "# To predict, all we need is a theta - let's check performance before training\n",
      "check_accuracy(predict(test_X, original_theta), test_y)"
     ],
     "language": "python",
     "metadata": {},
     "outputs": [
      {
       "metadata": {},
       "output_type": "pyout",
       "prompt_number": 15,
       "text": [
        "0.29999999999999999"
       ]
      }
     ],
     "prompt_number": 15
    },
    {
     "cell_type": "code",
     "collapsed": false,
     "input": [
      "# note: this is just for sanity checks\n",
      "def cost_function(X, answers, theta):\n",
      "    total = 0.0\n",
      "    for x,y in zip(X,answers):\n",
      "        hyp = sigmoid(x, theta)\n",
      "        total += ( (y * np.log(hyp)) - ((1-y) * np.log(1-hyp)) ) \n",
      "    cost = -(total / len(answers))\n",
      "    return cost"
     ],
     "language": "python",
     "metadata": {},
     "outputs": [],
     "prompt_number": 16
    },
    {
     "cell_type": "code",
     "collapsed": false,
     "input": [
      "# print the original theta, and the output of the cost function\n",
      "print(theta)\n",
      "print(cost_function(train_X, train_y, theta))\n",
      "\n",
      "def gradient_descent(X, y, theta, alpha, num_iterations=100):\n",
      "    working_theta = np.array(theta)\n",
      "    for i in range(num_iterations):\n",
      "        working_theta = iterate(X, y, working_theta, alpha)\n",
      "        print(cost_function(train_X, train_y, working_theta))\n",
      "    return np.array(working_theta)\n",
      "        \n",
      "alpha = 0.005\n",
      "num_iterations = 500\n",
      "#print(\"final/best theta: \")\n",
      "best_theta = gradient_descent(train_X, train_y, theta, alpha, num_iterations) \n",
      "#best_theta"
     ],
     "language": "python",
     "metadata": {},
     "outputs": [
      {
       "output_type": "stream",
       "stream": "stdout",
       "text": [
        "[[ 0.  0.  0.  0.]]\n",
        "[-0.21949661]\n",
        "[-0.18520826]\n",
        "[-0.1543952]\n",
        "[-0.12667177]\n",
        "[-0.10169364]\n",
        "[-0.0791555]"
       ]
      },
      {
       "output_type": "stream",
       "stream": "stdout",
       "text": [
        "\n",
        "[-0.05878791]\n",
        "[-0.04035372]\n",
        "[-0.02364455]\n",
        "[-0.00847737]\n",
        "[ 0.00530866]"
       ]
      },
      {
       "output_type": "stream",
       "stream": "stdout",
       "text": [
        "\n",
        "[ 0.017855]\n",
        "[ 0.02928625]\n",
        "[ 0.03971238]\n",
        "[ 0.0492306]\n",
        "[ 0.05792707]\n",
        "[ 0.06587829]\n",
        "[ 0.07315238]"
       ]
      },
      {
       "output_type": "stream",
       "stream": "stdout",
       "text": [
        "\n",
        "[ 0.0798101]\n",
        "[ 0.08590581]\n",
        "[ 0.09148822]\n",
        "[ 0.09660111]\n",
        "[ 0.1012839]\n",
        "[ 0.10557213]\n",
        "[ 0.10949798]"
       ]
      },
      {
       "output_type": "stream",
       "stream": "stdout",
       "text": [
        "\n",
        "[ 0.11309056]\n",
        "[ 0.11637632]\n",
        "[ 0.1193793]\n",
        "[ 0.1221214]\n",
        "[ 0.1246226]\n",
        "[ 0.12690116]\n",
        "[ 0.12897381]"
       ]
      },
      {
       "output_type": "stream",
       "stream": "stdout",
       "text": [
        "\n",
        "[ 0.13085584]\n",
        "[ 0.13256133]\n",
        "[ 0.13410319]\n",
        "[ 0.13549331]\n",
        "[ 0.13674264]\n",
        "[ 0.13786127]\n",
        "[ 0.13885852]"
       ]
      },
      {
       "output_type": "stream",
       "stream": "stdout",
       "text": [
        "\n",
        "[ 0.13974301]\n",
        "[ 0.1405227]\n",
        "[ 0.14120497]\n",
        "[ 0.14179664]\n",
        "[ 0.14230406]"
       ]
      },
      {
       "output_type": "stream",
       "stream": "stdout",
       "text": [
        "\n",
        "[ 0.14273309]\n",
        "[ 0.14308919]\n",
        "[ 0.14337744]\n",
        "[ 0.14360255]\n",
        "[ 0.1437689]\n",
        "[ 0.14388057]\n",
        "[ 0.14394136]\n",
        "[ 0.14395482]"
       ]
      },
      {
       "output_type": "stream",
       "stream": "stdout",
       "text": [
        "\n",
        "[ 0.14392425]\n",
        "[ 0.14385271]\n",
        "[ 0.14374308]\n",
        "[ 0.14359805]\n",
        "[ 0.14342011]\n",
        "[ 0.14321159]\n",
        "[ 0.14297469]"
       ]
      },
      {
       "output_type": "stream",
       "stream": "stdout",
       "text": [
        "\n",
        "[ 0.14271143]\n",
        "[ 0.14242372]\n",
        "[ 0.14211335]\n",
        "[ 0.14178197]\n",
        "[ 0.14143115]\n",
        "[ 0.14106235]\n",
        "[ 0.14067691]\n",
        "[ 0.14027613]\n",
        "[ 0.1398612]"
       ]
      },
      {
       "output_type": "stream",
       "stream": "stdout",
       "text": [
        "\n",
        "[ 0.13943322]\n",
        "[ 0.13899325]\n",
        "[ 0.13854227]\n",
        "[ 0.13808119]\n",
        "[ 0.13761087]\n",
        "[ 0.13713211]\n",
        "[ 0.13664567]\n",
        "[ 0.13615225]"
       ]
      },
      {
       "output_type": "stream",
       "stream": "stdout",
       "text": [
        "\n",
        "[ 0.1356525]\n",
        "[ 0.13514705]\n",
        "[ 0.13463648]\n",
        "[ 0.13412131]\n",
        "[ 0.13360207]"
       ]
      },
      {
       "output_type": "stream",
       "stream": "stdout",
       "text": [
        "\n",
        "[ 0.13307923]\n",
        "[ 0.13255322]\n",
        "[ 0.13202446]\n",
        "[ 0.13149335]\n",
        "[ 0.13096024]\n",
        "[ 0.13042548]\n",
        "[ 0.12988938]\n",
        "[ 0.12935224]"
       ]
      },
      {
       "output_type": "stream",
       "stream": "stdout",
       "text": [
        "\n",
        "[ 0.12881433]\n",
        "[ 0.12827593]\n",
        "[ 0.12773726]\n",
        "[ 0.12719857]\n",
        "[ 0.12666004]\n",
        "[ 0.1261219]"
       ]
      },
      {
       "output_type": "stream",
       "stream": "stdout",
       "text": [
        "\n",
        "[ 0.12558431]\n",
        "[ 0.12504745]\n",
        "[ 0.12451148]\n",
        "[ 0.12397656]\n",
        "[ 0.1234428]"
       ]
      },
      {
       "output_type": "stream",
       "stream": "stdout",
       "text": [
        "\n",
        "[ 0.12291036]\n",
        "[ 0.12237934]\n",
        "[ 0.12184986]\n",
        "[ 0.12132201]\n",
        "[ 0.12079591]\n",
        "[ 0.12027163]\n",
        "[ 0.11974925]\n",
        "[ 0.11922886]"
       ]
      },
      {
       "output_type": "stream",
       "stream": "stdout",
       "text": [
        "\n",
        "[ 0.11871051]\n",
        "[ 0.11819429]\n",
        "[ 0.11768024]\n",
        "[ 0.11716841]\n",
        "[ 0.11665887]\n",
        "[ 0.11615166]\n",
        "[ 0.11564681]\n",
        "[ 0.11514436]"
       ]
      },
      {
       "output_type": "stream",
       "stream": "stdout",
       "text": [
        "\n",
        "[ 0.11464435]\n",
        "[ 0.11414681]\n",
        "[ 0.11365177]\n",
        "[ 0.11315925]\n",
        "[ 0.11266928]\n",
        "[ 0.11218187]"
       ]
      },
      {
       "output_type": "stream",
       "stream": "stdout",
       "text": [
        "\n",
        "[ 0.11169704]\n",
        "[ 0.11121481]\n",
        "[ 0.11073518]\n",
        "[ 0.11025818]\n",
        "[ 0.1097838]\n",
        "[ 0.10931206]\n",
        "[ 0.10884296]\n",
        "[ 0.1083765]\n",
        "[ 0.1079127]"
       ]
      },
      {
       "output_type": "stream",
       "stream": "stdout",
       "text": [
        "\n",
        "[ 0.10745154]\n",
        "[ 0.10699304]\n",
        "[ 0.10653718]\n",
        "[ 0.10608397]\n",
        "[ 0.1056334]\n",
        "[ 0.10518547]\n",
        "[ 0.10474018]"
       ]
      },
      {
       "output_type": "stream",
       "stream": "stdout",
       "text": [
        "\n",
        "[ 0.10429751]\n",
        "[ 0.10385747]\n",
        "[ 0.10342004]\n",
        "[ 0.10298522]\n",
        "[ 0.10255299]\n",
        "[ 0.10212335]\n",
        "[ 0.1016963]\n",
        "[ 0.10127181]"
       ]
      },
      {
       "output_type": "stream",
       "stream": "stdout",
       "text": [
        "\n",
        "[ 0.10084988]\n",
        "[ 0.1004305]\n",
        "[ 0.10001365]\n",
        "[ 0.09959933]\n",
        "[ 0.09918751]\n",
        "[ 0.0987782]\n",
        "[ 0.09837138]"
       ]
      },
      {
       "output_type": "stream",
       "stream": "stdout",
       "text": [
        "\n",
        "[ 0.09796702]\n",
        "[ 0.09756513]\n",
        "[ 0.09716569]\n",
        "[ 0.09676868]\n",
        "[ 0.09637408]\n",
        "[ 0.0959819]\n",
        "[ 0.0955921]\n",
        "[ 0.09520469]\n",
        "[ 0.09481963]"
       ]
      },
      {
       "output_type": "stream",
       "stream": "stdout",
       "text": [
        "\n",
        "[ 0.09443693]\n",
        "[ 0.09405655]\n",
        "[ 0.0936785]\n",
        "[ 0.09330276]\n",
        "[ 0.0929293]\n",
        "[ 0.09255812]\n",
        "[ 0.0921892]"
       ]
      },
      {
       "output_type": "stream",
       "stream": "stdout",
       "text": [
        "\n",
        "[ 0.09182252]\n",
        "[ 0.09145808]\n",
        "[ 0.09109585]\n",
        "[ 0.09073583]\n",
        "[ 0.09037799]\n",
        "[ 0.09002233]\n",
        "[ 0.08966882]\n",
        "[ 0.08931746]\n",
        "[ 0.08896822]"
       ]
      },
      {
       "output_type": "stream",
       "stream": "stdout",
       "text": [
        "\n",
        "[ 0.0886211]\n",
        "[ 0.08827607]\n",
        "[ 0.08793314]\n",
        "[ 0.08759227]\n",
        "[ 0.08725345]\n",
        "[ 0.08691668]\n",
        "[ 0.08658194]"
       ]
      },
      {
       "output_type": "stream",
       "stream": "stdout",
       "text": [
        "\n",
        "[ 0.0862492]\n",
        "[ 0.08591847]\n",
        "[ 0.08558972]\n",
        "[ 0.08526294]\n",
        "[ 0.08493811]"
       ]
      },
      {
       "output_type": "stream",
       "stream": "stdout",
       "text": [
        "\n",
        "[ 0.08461523]\n",
        "[ 0.08429428]\n",
        "[ 0.08397524]\n",
        "[ 0.08365811]\n",
        "[ 0.08334286]\n",
        "[ 0.08302948]\n",
        "[ 0.08271796]\n",
        "[ 0.0824083]"
       ]
      },
      {
       "output_type": "stream",
       "stream": "stdout",
       "text": [
        "\n",
        "[ 0.08210046]\n",
        "[ 0.08179445]\n",
        "[ 0.08149024]\n",
        "[ 0.08118783]\n",
        "[ 0.0808872]\n",
        "[ 0.08058834]\n",
        "[ 0.08029123]\n",
        "[ 0.07999587]"
       ]
      },
      {
       "output_type": "stream",
       "stream": "stdout",
       "text": [
        "\n",
        "[ 0.07970224]\n",
        "[ 0.07941032]\n",
        "[ 0.07912012]\n",
        "[ 0.0788316]\n",
        "[ 0.07854477]\n",
        "[ 0.0782596]"
       ]
      },
      {
       "output_type": "stream",
       "stream": "stdout",
       "text": [
        "\n",
        "[ 0.0779761]\n",
        "[ 0.07769423]\n",
        "[ 0.077414]\n",
        "[ 0.07713539]\n",
        "[ 0.0768584]\n",
        "[ 0.076583]\n",
        "[ 0.07630918]\n",
        "[ 0.07603694]"
       ]
      },
      {
       "output_type": "stream",
       "stream": "stdout",
       "text": [
        "\n",
        "[ 0.07576627]\n",
        "[ 0.07549714]\n",
        "[ 0.07522956]\n",
        "[ 0.07496351]\n",
        "[ 0.07469897]\n",
        "[ 0.07443595]\n",
        "[ 0.07417442]\n",
        "[ 0.07391438]\n",
        "[ 0.07365581]"
       ]
      },
      {
       "output_type": "stream",
       "stream": "stdout",
       "text": [
        "\n",
        "[ 0.07339871]\n",
        "[ 0.07314307]\n",
        "[ 0.07288887]\n",
        "[ 0.0726361]\n",
        "[ 0.07238476]\n",
        "[ 0.07213482]"
       ]
      },
      {
       "output_type": "stream",
       "stream": "stdout",
       "text": [
        "\n",
        "[ 0.0718863]\n",
        "[ 0.07163916]\n",
        "[ 0.07139341]\n",
        "[ 0.07114904]\n",
        "[ 0.07090602]\n",
        "[ 0.07066436]\n",
        "[ 0.07042405]\n",
        "[ 0.07018507]\n",
        "[ 0.06994741]\n",
        "[ 0.06971107]"
       ]
      },
      {
       "output_type": "stream",
       "stream": "stdout",
       "text": [
        "\n",
        "[ 0.06947604]\n",
        "[ 0.06924231]\n",
        "[ 0.06900986]\n",
        "[ 0.06877869]\n",
        "[ 0.06854879]\n",
        "[ 0.06832015]\n",
        "[ 0.06809277]\n",
        "[ 0.06786663]\n",
        "[ 0.06764172]"
       ]
      },
      {
       "output_type": "stream",
       "stream": "stdout",
       "text": [
        "\n",
        "[ 0.06741804]\n",
        "[ 0.06719557]\n",
        "[ 0.06697432]\n",
        "[ 0.06675426]\n",
        "[ 0.0665354]\n",
        "[ 0.06631772]\n",
        "[ 0.06610121]\n",
        "[ 0.06588588]\n",
        "[ 0.0656717]"
       ]
      },
      {
       "output_type": "stream",
       "stream": "stdout",
       "text": [
        "\n",
        "[ 0.06545867]\n",
        "[ 0.06524678]\n",
        "[ 0.06503603]\n",
        "[ 0.06482641]\n",
        "[ 0.06461791]\n",
        "[ 0.06441051]\n",
        "[ 0.06420422]\n",
        "[ 0.06399903]\n",
        "[ 0.06379493]"
       ]
      },
      {
       "output_type": "stream",
       "stream": "stdout",
       "text": [
        "\n",
        "[ 0.0635919]\n",
        "[ 0.06338995]\n",
        "[ 0.06318907]\n",
        "[ 0.06298924]\n",
        "[ 0.06279047]\n",
        "[ 0.06259274]\n",
        "[ 0.06239605]\n",
        "[ 0.06220038]\n",
        "[ 0.06200575]"
       ]
      },
      {
       "output_type": "stream",
       "stream": "stdout",
       "text": [
        "\n",
        "[ 0.06181212]\n",
        "[ 0.06161951]\n",
        "[ 0.0614279]\n",
        "[ 0.06123728]\n",
        "[ 0.06104765]\n",
        "[ 0.06085901]\n",
        "[ 0.06067134]\n",
        "[ 0.06048464]\n",
        "[ 0.0602989]"
       ]
      },
      {
       "output_type": "stream",
       "stream": "stdout",
       "text": [
        "\n",
        "[ 0.06011411]\n",
        "[ 0.05993028]\n",
        "[ 0.05974739]\n",
        "[ 0.05956543]\n",
        "[ 0.05938441]\n",
        "[ 0.05920431]\n",
        "[ 0.05902512]\n",
        "[ 0.05884685]\n",
        "[ 0.05866949]"
       ]
      },
      {
       "output_type": "stream",
       "stream": "stdout",
       "text": [
        "\n",
        "[ 0.05849302]\n",
        "[ 0.05831744]\n",
        "[ 0.05814276]\n",
        "[ 0.05796895]\n",
        "[ 0.05779603]\n",
        "[ 0.05762397]\n",
        "[ 0.05745277]\n",
        "[ 0.05728244]"
       ]
      },
      {
       "output_type": "stream",
       "stream": "stdout",
       "text": [
        "\n",
        "[ 0.05711295]\n",
        "[ 0.05694432]\n",
        "[ 0.05677652]\n",
        "[ 0.05660956]\n",
        "[ 0.05644344]\n",
        "[ 0.05627813]\n",
        "[ 0.05611365]\n",
        "[ 0.05594998]\n",
        "[ 0.05578712]"
       ]
      },
      {
       "output_type": "stream",
       "stream": "stdout",
       "text": [
        "\n",
        "[ 0.05562506]\n",
        "[ 0.0554638]\n",
        "[ 0.05530334]\n",
        "[ 0.05514366]\n",
        "[ 0.05498476]\n",
        "[ 0.05482665]\n",
        "[ 0.0546693]\n",
        "[ 0.05451272]"
       ]
      },
      {
       "output_type": "stream",
       "stream": "stdout",
       "text": [
        "\n",
        "[ 0.05435691]\n",
        "[ 0.05420185]\n",
        "[ 0.05404755]\n",
        "[ 0.053894]\n",
        "[ 0.05374118]\n",
        "[ 0.05358911]"
       ]
      },
      {
       "output_type": "stream",
       "stream": "stdout",
       "text": [
        "\n",
        "[ 0.05343777]\n",
        "[ 0.05328716]\n",
        "[ 0.05313727]\n",
        "[ 0.0529881]\n",
        "[ 0.05283965]\n",
        "[ 0.05269191]\n",
        "[ 0.05254487]\n",
        "[ 0.05239854]"
       ]
      },
      {
       "output_type": "stream",
       "stream": "stdout",
       "text": [
        "\n",
        "[ 0.0522529]\n",
        "[ 0.05210796]\n",
        "[ 0.0519637]\n",
        "[ 0.05182013]\n",
        "[ 0.05167724]\n",
        "[ 0.05153502]\n",
        "[ 0.05139347]\n",
        "[ 0.05125259]"
       ]
      },
      {
       "output_type": "stream",
       "stream": "stdout",
       "text": [
        "\n",
        "[ 0.05111237]\n",
        "[ 0.05097281]\n",
        "[ 0.05083391]\n",
        "[ 0.05069565]\n",
        "[ 0.05055804]\n",
        "[ 0.05042108]"
       ]
      },
      {
       "output_type": "stream",
       "stream": "stdout",
       "text": [
        "\n",
        "[ 0.05028475]\n",
        "[ 0.05014905]\n",
        "[ 0.05001399]\n",
        "[ 0.04987955]\n",
        "[ 0.04974573]\n",
        "[ 0.04961253]\n",
        "[ 0.04947995]\n",
        "[ 0.04934798]\n",
        "[ 0.04921661]\n",
        "[ 0.04908585]"
       ]
      },
      {
       "output_type": "stream",
       "stream": "stdout",
       "text": [
        "\n",
        "[ 0.04895568]\n",
        "[ 0.04882612]\n",
        "[ 0.04869714]\n",
        "[ 0.04856876]\n",
        "[ 0.04844095]\n",
        "[ 0.04831373]\n",
        "[ 0.04818709]\n",
        "[ 0.04806102]"
       ]
      },
      {
       "output_type": "stream",
       "stream": "stdout",
       "text": [
        "\n",
        "[ 0.04793552]\n",
        "[ 0.04781059]\n",
        "[ 0.04768623]\n",
        "[ 0.04756242]\n",
        "[ 0.04743917]\n",
        "[ 0.04731648]\n",
        "[ 0.04719433]\n",
        "[ 0.04707273]\n",
        "[ 0.04695168]"
       ]
      },
      {
       "output_type": "stream",
       "stream": "stdout",
       "text": [
        "\n",
        "[ 0.04683116]\n",
        "[ 0.04671119]\n",
        "[ 0.04659174]\n",
        "[ 0.04647283]\n",
        "[ 0.04635444]\n",
        "[ 0.04623658]\n",
        "[ 0.04611924]\n",
        "[ 0.04600242]"
       ]
      },
      {
       "output_type": "stream",
       "stream": "stdout",
       "text": [
        "\n",
        "[ 0.04588612]\n",
        "[ 0.04577032]\n",
        "[ 0.04565503]\n",
        "[ 0.04554025]\n",
        "[ 0.04542598]\n",
        "[ 0.0453122]\n",
        "[ 0.04519892]\n",
        "[ 0.04508613]\n",
        "[ 0.04497384]"
       ]
      },
      {
       "output_type": "stream",
       "stream": "stdout",
       "text": [
        "\n",
        "[ 0.04486203]\n",
        "[ 0.04475071]\n",
        "[ 0.04463987]\n",
        "[ 0.04452951]\n",
        "[ 0.04441962]\n",
        "[ 0.04431022]\n",
        "[ 0.04420128]\n",
        "[ 0.04409281]"
       ]
      },
      {
       "output_type": "stream",
       "stream": "stdout",
       "text": [
        "\n",
        "[ 0.0439848]\n",
        "[ 0.04387726]\n",
        "[ 0.04377018]\n",
        "[ 0.04366356]\n",
        "[ 0.04355739]\n",
        "[ 0.04345168]\n",
        "[ 0.04334641]\n",
        "[ 0.04324159]\n",
        "[ 0.04313722]\n",
        "[ 0.04303328]"
       ]
      },
      {
       "output_type": "stream",
       "stream": "stdout",
       "text": [
        "\n",
        "[ 0.04292979]\n",
        "[ 0.04282674]\n",
        "[ 0.04272411]\n",
        "[ 0.04262193]\n",
        "[ 0.04252017]\n",
        "[ 0.04241883]\n",
        "[ 0.04231792]\n",
        "[ 0.04221744]"
       ]
      },
      {
       "output_type": "stream",
       "stream": "stdout",
       "text": [
        "\n",
        "[ 0.04211737]\n",
        "[ 0.04201772]\n",
        "[ 0.04191849]\n",
        "[ 0.04181966]\n",
        "[ 0.04172125]\n",
        "[ 0.04162325]\n",
        "[ 0.04152565]\n",
        "[ 0.04142846]\n",
        "[ 0.04133166]\n",
        "[ 0.04123527]"
       ]
      },
      {
       "output_type": "stream",
       "stream": "stdout",
       "text": [
        "\n",
        "[ 0.04113927]\n",
        "[ 0.04104367]\n",
        "[ 0.04094845]\n",
        "[ 0.04085363]\n",
        "[ 0.0407592]\n",
        "[ 0.04066515]\n",
        "[ 0.04057149]\n",
        "[ 0.0404782]"
       ]
      },
      {
       "output_type": "stream",
       "stream": "stdout",
       "text": [
        "\n",
        "[ 0.0403853]\n",
        "[ 0.04029277]\n",
        "[ 0.04020062]\n",
        "[ 0.04010884]\n",
        "[ 0.04001743]\n",
        "[ 0.03992639]\n",
        "[ 0.03983571]\n",
        "[ 0.03974541]\n",
        "[ 0.03965546]"
       ]
      },
      {
       "output_type": "stream",
       "stream": "stdout",
       "text": [
        "\n",
        "[ 0.03956587]\n",
        "[ 0.03947665]\n",
        "[ 0.03938778]\n",
        "[ 0.03929926]\n",
        "[ 0.0392111]\n",
        "[ 0.03912329]\n",
        "[ 0.03903583]\n",
        "[ 0.03894871]"
       ]
      },
      {
       "output_type": "stream",
       "stream": "stdout",
       "text": [
        "\n",
        "[ 0.03886194]\n",
        "[ 0.03877552]\n",
        "[ 0.03868943]\n",
        "[ 0.03860369]\n",
        "[ 0.03851828]\n",
        "[ 0.03843321]\n",
        "[ 0.03834847]\n",
        "[ 0.03826407]\n",
        "[ 0.03817999]"
       ]
      },
      {
       "output_type": "stream",
       "stream": "stdout",
       "text": [
        "\n",
        "[ 0.03809625]\n",
        "[ 0.03801283]\n",
        "[ 0.03792973]\n",
        "[ 0.03784696]\n",
        "[ 0.03776452]\n",
        "[ 0.03768239]\n",
        "[ 0.03760058]"
       ]
      },
      {
       "output_type": "stream",
       "stream": "stdout",
       "text": [
        "\n",
        "[ 0.03751909]\n",
        "[ 0.03743791]\n",
        "[ 0.03735704]\n",
        "[ 0.03727649]\n",
        "[ 0.03719625]\n",
        "[ 0.03711631]"
       ]
      },
      {
       "output_type": "stream",
       "stream": "stdout",
       "text": [
        "\n",
        "[ 0.03703668]\n",
        "[ 0.03695736]\n",
        "[ 0.03687834]\n",
        "[ 0.03679962]\n",
        "[ 0.03672121]\n",
        "[ 0.03664309]"
       ]
      },
      {
       "output_type": "stream",
       "stream": "stdout",
       "text": [
        "\n",
        "[ 0.03656527]\n",
        "[ 0.03648774]\n",
        "[ 0.03641051]\n",
        "[ 0.03633357]\n",
        "[ 0.03625692]\n",
        "[ 0.03618056]\n",
        "[ 0.03610449]\n",
        "[ 0.03602871]\n",
        "[ 0.03595321]"
       ]
      },
      {
       "output_type": "stream",
       "stream": "stdout",
       "text": [
        "\n",
        "[ 0.03587799]\n",
        "[ 0.03580306]\n",
        "[ 0.0357284]\n",
        "[ 0.03565403]\n",
        "[ 0.03557993]\n",
        "[ 0.03550611]\n",
        "[ 0.03543256]\n"
       ]
      }
     ],
     "prompt_number": 17
    },
    {
     "cell_type": "code",
     "collapsed": false,
     "input": [
      "predictions = predict(test_X, best_theta)    \n",
      "check_accuracy(predictions, test_y)"
     ],
     "language": "python",
     "metadata": {},
     "outputs": [
      {
       "metadata": {},
       "output_type": "pyout",
       "prompt_number": 18,
       "text": [
        "1.0"
       ]
      }
     ],
     "prompt_number": 18
    },
    {
     "cell_type": "code",
     "collapsed": false,
     "input": [
      "# the following graph shows what the cost function looks like for y = 1 and y = 0\n",
      "plt.clf()\n",
      "\n",
      "def positive_cost(hyp_value):\n",
      "    return -(np.log(hyp_value))\n",
      "\n",
      "def negative_cost(hyp_value):\n",
      "    return -(np.log(1 - hyp_value))\n",
      "\n",
      "# map cost function over some numbers\n",
      "pos_x = np.arange(0.01, 1, .01)\n",
      "pos_y = [ positive_cost(n) for n in pos_x ]\n",
      "\n",
      "neg_x = np.arange(0.01, 1, .01)\n",
      "neg_y = [ negative_cost(n) for n in neg_x ]\n",
      "\n",
      "# add a horizontal line at 0\n",
      "#plt.axvline(x=0, ymin=0, ymax=1, ls='--')\n",
      "\n",
      "plt.plot(pos_x, pos_y, color='blue', lw=2)\n",
      "plt.plot(neg_x, neg_y, color='red', lw=2)\n",
      "plt.xlabel('hypothesis')\n",
      "plt.ylabel('cost')\n",
      "plt.show()"
     ],
     "language": "python",
     "metadata": {},
     "outputs": [
      {
       "metadata": {},
       "output_type": "display_data",
       "png": "[encoded data removed]",
       "text": [
        "<matplotlib.figure.Figure at 0x3447e90>"
       ]
      }
     ],
     "prompt_number": 19
    },
    {
     "cell_type": "markdown",
     "metadata": {},
     "source": [
      "__Question: Explain why this is a good cost function for learning the parameters of a binary classifier__"
     ]
    },
    {
     "cell_type": "code",
     "collapsed": false,
     "input": [
      "### Exercises:\n",
      "(1) Plot the cost function as logistic regression iterates\n",
      "(2) Try several different learning rates (alphas), and plot what happens when alpha changes (your plot should have several lines)\n",
      "(3) Load a new dataset and try Logistic Regression on that dataset"
     ],
     "language": "python",
     "metadata": {},
     "outputs": []
    }
   ],
   "metadata": {}
  }
 ]
}