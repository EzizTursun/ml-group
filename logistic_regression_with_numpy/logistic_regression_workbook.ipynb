{
 "metadata": {
  "name": ""
 },
 "nbformat": 3,
 "nbformat_minor": 0,
 "worksheets": [
  {
   "cells": [
    {
     "cell_type": "code",
     "collapsed": false,
     "input": [
      "# we want to show Logistic Regression with/without regularization\n",
      "# visualize the change at each iteration (with/without regularization)\n",
      "# visualize changing parameters"
     ],
     "language": "python",
     "metadata": {},
     "outputs": [],
     "prompt_number": 1
    },
    {
     "cell_type": "markdown",
     "metadata": {},
     "source": [
      "## Representing the Logistic Regression Hypothesis\n",
      "\n"
     ]
    },
    {
     "cell_type": "markdown",
     "metadata": {},
     "source": [
      "Ok, we want $ 0 \\leq h_\\theta(x) \\leq 1 $\n",
      "            \n",
      "Remember this representation:           \n",
      "$ h_\\theta = g(\\theta^Tx) $      \n",
      "          \n",
      "where:      \n",
      "$ g(z) = \\frac{1}{1 + e^{-z}} $       \n",
      "       \n",
      "So our final representation is:    \n",
      "$ g(z) = \\frac{1}{1 + e^{-\\theta^Tx}} $\n",
      "\n",
      "__this is the *sigmoid* or *logistic* function__"
     ]
    },
    {
     "cell_type": "code",
     "collapsed": false,
     "input": [
      "# define the logistic function\n",
      "import numpy as np\n",
      "def sigmoid(x, theta=np.array(1.0)):\n",
      "    x = np.array(x)\n",
      "    theta = np.array(theta)\n",
      "#     print(x.shape)\n",
      "#     print(theta.T.shape)\n",
      "#     print(x.dot(theta.T))\n",
      "#     print(-x.dot(theta.T))\n",
      "#     print(np.e ** x.dot(theta.T))\n",
      "    return(1 / (1 + np.exp(-x.dot(theta.T))))\n",
      "#     return((1 + np.exp(-x.dot(theta.T))))\n",
      "    #return (1.0 / ( 1 + np.exp(-x.dot(theta.T))))"
     ],
     "language": "python",
     "metadata": {},
     "outputs": [],
     "prompt_number": 2
    },
    {
     "cell_type": "code",
     "collapsed": false,
     "input": [
      "# cool, let's visualize it (x is 'z', y is 'g(z)')\n",
      "import matplotlib.pyplot as plt\n",
      "from pylab import *\n",
      "\n",
      "# notebook magic\n",
      "%matplotlib inline\n",
      "\n",
      "# map the sigmoid function over a vector of numbers\n",
      "x = np.arange(-6, 6, .01)\n",
      "y = [ sigmoid(n) for n in x ]\n",
      "\n",
      "# add a vertical line at 0\n",
      "plt.axvline(x=0, ymin=0, ymax=1, ls='--')\n",
      "\n",
      "plt.plot(x, y, color='red', lw=2)\n",
      "plt.xlabel('z')\n",
      "plt.ylabel('g(z)')\n",
      "plt.show()"
     ],
     "language": "python",
     "metadata": {},
     "outputs": [
      {
       "metadata": {},
       "output_type": "display_data",
       "png": "[encoded data removed]",
       "text": [
        "<matplotlib.figure.Figure at 0x3ab5f50>"
       ]
      }
     ],
     "prompt_number": 3
    },
    {
     "cell_type": "markdown",
     "metadata": {},
     "source": [
      "## Implementing Logistic Regression\n",
      "__our goal is to fit the parameters $ \\theta $ to our data__\n",
      "\n",
      "\n",
      "### Interpreting the hypothesis\n",
      "__The key idea is to interpret $ h_\\theta(x) $ as the probability that y = 1 for input x__     \n",
      "In other words, if x >= 0.5 we classify it as 1, if it's < 0.5, we classify it as 0      \n",
      "\n",
      "formally:     \n",
      "$ h_\\theta(x) = p(y=1 | x;\\theta) $\n",
      ">__\"the probability that y=1, given x, parameterized by $ \\theta $\"__ - Andrew Ng        \n",
      "      \n",
      "Note the following as well:     \n",
      "$ p(y=0| x;\\theta) + p(y=1| x;\\theta) = 1 $           \n",
      "$ p(y=0| x;\\theta) = 1 - p(y=1| x;\\theta) $    \n",
      "        \n",
      "Question: what values of z cause g(z) to be > 0.5 ?\n",
      "\n",
      "Note:     \n",
      "$ h_\\theta(x) = g(\\theta^Tx) \\geq 0.5 $ whenever $ \\theta^Tx \\geq 0 $       \n",
      "and conversely:      \n",
      "$ h_\\theta(x) = g(\\theta^Tx) \\lt 0.5 $ whenever $ \\theta^Tx \\lt 0 $"
     ]
    },
    {
     "cell_type": "markdown",
     "metadata": {},
     "source": [
      "### understanding and visualizing the decision boundary\n",
      "Remember that: $ h_\\theta(x) = g(\\theta_0 + \\theta_1x_1 + \\theta_2x_2) $      \n",
      "\n",
      "__possible exercise__:\n",
      "visualize the classes of points for a random array of sample data, and a sample parameter vector     \n",
      "if params are $ \\theta = [ -3,1,1 ] $, then the line for the decision boundary is $ -x + 3 $     "
     ]
    },
    {
     "cell_type": "code",
     "collapsed": false,
     "input": [
      "# notebook magic\n",
      "%matplotlib inline\n",
      "from numpy.random import random, randint\n",
      "\n",
      "def boundary(x):\n",
      "    x = np.float(x)\n",
      "    return (-x + 3)\n",
      "\n",
      "def random_point():\n",
      "    return (1, random()*randint(0,6), random()*randint(0,6))\n",
      "\n",
      "def decide(value):\n",
      "    if value >= 0.5:\n",
      "        return 1\n",
      "    return 0\n",
      "\n",
      "\n",
      "# an example vector of theta values\n",
      "example_theta = np.array([-3,1,1])\n",
      "\n",
      "plt.clf()\n",
      "markers = ['o', '+']\n",
      "colors = ['red', 'blue']\n",
      "points_x = [ random_point() for x in range(10) ]\n",
      "classes = [ decide(sigmoid(p, example_theta)) for p in points_x ]\n",
      "x_1 = [x[1] for x in points_x]\n",
      "x_2 = [x[2] for x in points_x]\n",
      "for i,p in enumerate(points_x):\n",
      "    x_1 = p[1]\n",
      "    x_2 = p[2]\n",
      "    c=classes[i]\n",
      "    plt.scatter(x_1, x_2, s=30.0, c=c, marker=markers[c], color=colors[c])\n",
      "    \n",
      "\n",
      "# map the sigmoid function over a vector of numbers\n",
      "x = np.arange(0, 3, .01)\n",
      "y = [ boundary(n) for n in x ]\n",
      "\n",
      "# add a vertical line at 0\n",
      "#plt.axvline(x=0, ymin=0, ymax=1, ls='--')\n",
      "\n",
      "plt.plot(x, y, color='red', lw=1, ls='--')\n",
      "plt.xlabel('x_1')\n",
      "plt.ylabel('x_2')\n",
      "plt.show()"
     ],
     "language": "python",
     "metadata": {},
     "outputs": [
      {
       "metadata": {},
       "output_type": "display_data",
       "png": "[encoded data removed]",
       "text": [
        "<matplotlib.figure.Figure at 0x3ab5b10>"
       ]
      }
     ],
     "prompt_number": 4
    },
    {
     "cell_type": "markdown",
     "metadata": {},
     "source": [
      "## Non-Linear decision boundaries\n",
      "__in logistic regression, to capture a non-linear boundary, we need to add polynomial features__     \n",
      "i.e.    \n",
      "$ h_\\theta(x) = g(\\theta_0 + \\theta_1x_1 + \\theta_2x_2 + \\theta_3x^2_1 + \\theta_4x^2_2) $       \n",
      "       \n",
      "Question: what happens if the $ \\theta $ values for the features above are [-1,0,0,1,1]?      \n",
      "Answer: predict y=1 when $ -1 + x^2_1 + x^2_2 \\geq 0 $       \n",
      "So the decision boundary is: $ x^2_1 + x^2_2 = 1 $ (a circle)               \n",
      "__Remember that the decision boundary is defined by $ \\theta $, not by the dataset__           \n",
      "--> higher-order polynomial features can make arbitrarily complex decision boundaries"
     ]
    },
    {
     "cell_type": "markdown",
     "metadata": {},
     "source": [
      "## Cost Function -- aka Optimization Objective        \n",
      "We have a training set: $ \\{(x^{(1)}, y^{(1)}), (x^{(2)}, y^{(2)}), ...,(x^{(m)}, y^{(m)}) \\} $          \n",
      "__each $x$ is a vector: $ [x_0, x_1, x_2, ..., x_n] $__         \n",
      "* note that $X_0 = 1$ ($\\theta_0$ is the 'bias' term)        \n",
      "since this is a classification problem, $ y \\in \\{0,1\\} $          \n",
      "       \n",
      "and remember:       \n",
      "$ g(z) = \\frac{1}{1 + e^{-\\theta^Tx}} $          \n",
      "        \n",
      "__So how do we find the right $\\theta$s?__     \n",
      "          \n",
      "For linear regression, the cost function was:         \n",
      "$J(\\theta) = \\frac{1}{m}\\sum\\limits_{i=1}^m\\frac{1}{2}(h_\\theta(x^{(i)}) - y^{(i)})^2 $\n",
      "       \n",
      "Let's represent the part after the sum as:     \n",
      "$ cost(h_\\theta(x^{(i)}, y^{(i)}) $           \n",
      "       \n",
      "So, for linear regression:     \n",
      "$ cost(h_\\theta(x^{(i)}, y^{(i)}) = \\frac{1}{2}(h_\\theta(x^{(i)}) - y^{(i)})^2 $          \n",
      "if we just define $h_\\theta(x)$ as the logistic (sigmoid) function, it's not convex    \n",
      "      \n",
      "So, redefine the cost function as:       \n",
      "          \n",
      "$ cost(h_\\theta(x), y) = \n",
      "\\begin{cases}\n",
      "-log(h_\\theta(x))~~if~~y = 1 \\\\\n",
      "-log(1 - h_\\theta(x))~~if~~y = 0\n",
      "\\end{cases} $                 \n",
      "           \n",
      "      \n",
      "### Get ready, something cool is coming....     \n",
      "because $ y = \\{0, 1\\} $      \n",
      "you can write the cost function succinctly as:      \n",
      "       \n",
      "$ cost(h_\\theta(x^{(i)}, y^{(i)}) = -y~log(h_\\theta(x)) - (1-y)log(1 - h_\\theta(x)) $    \n",
      "      \n",
      "__Important: convince yourself that this is true__       \n",
      "       \n",
      "The final version of the LR cost function for the whole dataset:      \n",
      "$ J(\\theta) = -\\frac{1}{m}[\\sum\\limits_{i=1}^m~y^{(i)}~log(h_\\theta(x^{(i)})) - (1-y^{(i)})log(1 - h_\\theta(x^{(i)}))] $\n",
      "                  "
     ]
    },
    {
     "cell_type": "markdown",
     "metadata": {},
     "source": [
      "## Training\n",
      "__We want to find:__\n",
      "       \n",
      "$\\displaystyle \\min_{\\theta}J(\\theta) $\n",
      "       \n",
      "given parameters $x$, we predict the $y$ value by:     \n",
      "$ h_\\theta(x) = \\frac{1}{1 + e^{-\\theta^Tx}} $     \n",
      "aka:    \n",
      "$ p(y=1 | x;\\theta) $            \n",
      "       \n",
      "The update template is:      \n",
      "Repeat {       \n",
      "$~~~~\\theta_j := \\theta_j - \\alpha\\frac{\\partial}{\\partial\\theta_j}J(\\theta) $            \n",
      "}     \n",
      "$\\alpha$ is the learning rate     \n",
      "We update all $\\theta_j$ __simultaeneously__     \n",
      "       \n",
      "__Note: don't fear the partial derivative, it's really simple in practice:__     \n",
      "      \n",
      "$ \\frac{\\partial}{\\partial\\theta_j}J(\\theta) = \\frac{1}{m}\\sum\\limits_{i=1}^m(h_\\theta(x^{(i)}) - y^{(i)})x_j^{(i)} $             \n",
      "       \n",
      "__so the update equation becomes: __      \n",
      "\n",
      "Repeat {       \n",
      "$~~~~\\theta_j := \\theta_j - \\alpha\\frac{1}{m}\\sum\\limits_{i=1}^m(h_\\theta(x^{(i)}) - y^{(i)})x_j^{(i)} $            \n",
      "}      \n",
      "__this is identical to the update rule for gradient descent for Linear Regression__      \n",
      "       \n",
      "the vectorized version of the update template (note the missing $j$s):      \n",
      "\n",
      "$~~~~\\theta := \\theta - \\alpha\\frac{1}{m}\\sum\\limits_{i=1}^m[(h_\\theta(x^{(i)}) - y^{(i)})x^{(i)}] $      "
     ]
    },
    {
     "cell_type": "code",
     "collapsed": false,
     "input": [
      "# load a dataset\n",
      "X = np.random.random((9,10)) * 5\n",
      "y = np.random.randint(2, size=9)\n",
      "\n",
      "# compute the hypothesis for the row, subtract y, and put the value in every cell of that row\n",
      "# scale each cell by the x_j of that cell (multiply cellwise with the original array)\n",
      "# average columns, and multiply by alpha\n",
      "# subtract that vector from the previous theta to get the new theta for this iteration\n",
      "\n",
      "# here theta is a column vector\n",
      "#theta = np.random.random((1,10))\n",
      "theta = np.random.uniform(0,1,[1,10])\n",
      "#X = np.arange(9).reshape((3,3))\n",
      "#theta = np.arange(3)\n",
      "\n",
      "def iterate(X, y, theta):\n",
      "    hypotheses = sigmoid(X, theta)\n",
      "    minus_y = hypotheses.T - y\n",
      "    scaled_by_x = X * minus_y.T\n",
      "    col_averages = np.average(scaled_by_x, axis=0)\n",
      "    updates = col_averages * 0.1\n",
      "    new_theta = theta - updates\n",
      "    return new_theta\n",
      "\n",
      "print(cost_function(X, y, theta))\n",
      "for i in range(10):\n",
      "    theta = iterate(X, y, theta)\n",
      "    print(cost_function(X, y, theta))\n",
      "    #print(cost_function(X, y, new_theta))\n",
      "\n",
      "#new_theta\n",
      "#hypotheses\n",
      "#print(hypotheses)\n",
      "# def get_hypothesis(x, theta):\n",
      "#     return sigmoid(x, theta)"
     ],
     "language": "python",
     "metadata": {},
     "outputs": [
      {
       "output_type": "stream",
       "stream": "stdout",
       "text": [
        "[ 8.56974265]\n",
        "[ 4.70368915]\n",
        "[ 1.21024703]\n",
        "[ 0.02632764]\n",
        "[-0.00371204]\n",
        "[-0.00429381]\n",
        "[-0.00227583]\n",
        "[-0.00059443]\n",
        "[ 0.00057268]\n",
        "[ 0.00135371]\n",
        "[ 0.00186982]\n"
       ]
      }
     ],
     "prompt_number": 7
    },
    {
     "cell_type": "code",
     "collapsed": false,
     "input": [
      "# note: this is just for sanity checks\n",
      "\n",
      "def cost_function(X, answers, theta):\n",
      "    total = 0.0\n",
      "    #print(X)\n",
      "    #print(answers)\n",
      "    #print(zip(X,answers))\n",
      "        \n",
      "    for x,y in zip(X,answers):\n",
      "        #print(x)\n",
      "        #print(y)\n",
      "        hyp = sigmoid(x, theta)\n",
      "        #print(hyp)\n",
      "        total += ( (y * np.log(hyp)) - ((1-y) * np.log(1-hyp)) ) \n",
      "    cost = (total / len(answers))\n",
      "    return cost"
     ],
     "language": "python",
     "metadata": {},
     "outputs": [],
     "prompt_number": 8
    },
    {
     "cell_type": "code",
     "collapsed": false,
     "input": [
      "# checking the gradient\n",
      "\n",
      "# from coursera:\n",
      "#Plot J(\u03b8)=\u22121m\u2211mi=1[y(i)logh\u03b8(x(i))+(1\u2212y(i))log(1\u2212h\u03b8(x(i)))] as a function of the number of iterations and make sure J(\u03b8) is decreasing on every iteration."
     ],
     "language": "python",
     "metadata": {},
     "outputs": [],
     "prompt_number": 9
    },
    {
     "cell_type": "code",
     "collapsed": false,
     "input": [
      "# the following graph shows what the cost function looks like for y = 1 and y = 0\n",
      "plt.clf()\n",
      "\n",
      "def positive_cost(hyp_value):\n",
      "    return -(np.log(hyp_value))\n",
      "\n",
      "def negative_cost(hyp_value):\n",
      "    return -(np.log(1 - hyp_value))\n",
      "\n",
      "# map cost function over some numbers\n",
      "pos_x = np.arange(0.01, 1, .01)\n",
      "pos_y = [ positive_cost(n) for n in pos_x ]\n",
      "\n",
      "neg_x = np.arange(0.01, 1, .01)\n",
      "neg_y = [ negative_cost(n) for n in neg_x ]\n",
      "\n",
      "# add a horizontal line at 0\n",
      "#plt.axvline(x=0, ymin=0, ymax=1, ls='--')\n",
      "\n",
      "plt.plot(pos_x, pos_y, color='blue', lw=2)\n",
      "plt.plot(neg_x, neg_y, color='red', lw=2)\n",
      "plt.xlabel('hypothesis')\n",
      "plt.ylabel('cost')\n",
      "plt.show()"
     ],
     "language": "python",
     "metadata": {},
     "outputs": [
      {
       "metadata": {},
       "output_type": "display_data",
       "png": "[encoded data removed]",
       "text": [
        "<matplotlib.figure.Figure at 0x3b78cd0>"
       ]
      }
     ],
     "prompt_number": 11
    },
    {
     "cell_type": "markdown",
     "metadata": {},
     "source": [
      "__Question: Explain why this is a good cost function for learning the parameters of a binary classifier__"
     ]
    },
    {
     "cell_type": "code",
     "collapsed": false,
     "input": [
      "# from: http://jakevdp.github.io/blog/2012/08/18/matplotlib-animation-tutorial/\n",
      "\n",
      "\"\"\"\n",
      "A simple example of an animated plot... In 3D!\n",
      "\"\"\"\n",
      "import numpy as np\n",
      "import matplotlib.pyplot as plt\n",
      "import mpl_toolkits.mplot3d.axes3d as p3\n",
      "import matplotlib.animation as animation\n",
      "\n",
      "plt.clf()\n",
      "\n",
      "def Gen_RandLine(length, dims=2) :\n",
      "    \"\"\"\n",
      "    Create a line using a random walk algorithm\n",
      "\n",
      "    length is the number of points for the line.\n",
      "    dims is the number of dimensions the line has.\n",
      "    \"\"\"\n",
      "    lineData = np.empty((dims, length))\n",
      "    lineData[:, 0] = np.random.rand(dims)\n",
      "    for index in range(1, length) :\n",
      "        # scaling the random numbers by 0.1 so\n",
      "        # movement is small compared to position.\n",
      "        # subtraction by 0.5 is to change the range to [-0.5, 0.5]\n",
      "        # to allow a line to move backwards.\n",
      "        step = ((np.random.rand(dims) - 0.5) * 0.1)\n",
      "        lineData[:, index] = lineData[:, index-1] + step\n",
      "\n",
      "    return lineData\n",
      "\n",
      "def update_lines(num, dataLines, lines) :\n",
      "    for line, data in zip(lines, dataLines) :\n",
      "        # NOTE: there is no .set_data() for 3 dim data...\n",
      "        line.set_data(data[0:2, :num])\n",
      "        line.set_3d_properties(data[2,:num])\n",
      "    return lines\n",
      "\n",
      "# Attaching 3D axis to the figure\n",
      "fig = plt.figure()\n",
      "ax = p3.Axes3D(fig)\n",
      "\n",
      "# Fifty lines of random 3-D lines\n",
      "data = [Gen_RandLine(25, 3) for index in range(50)]\n",
      "\n",
      "# Creating fifty line objects.\n",
      "# NOTE: Can't pass empty arrays into 3d version of plot()\n",
      "lines = [ax.plot(dat[0, 0:1], dat[1, 0:1], dat[2, 0:1])[0] for dat in data]\n",
      "\n",
      "# Setting the axes properties\n",
      "ax.set_xlim3d([0.0, 1.0])\n",
      "ax.set_xlabel('X')\n",
      "\n",
      "ax.set_ylim3d([0.0, 1.0])\n",
      "ax.set_ylabel('Y')\n",
      "\n",
      "ax.set_zlim3d([0.0, 1.0])\n",
      "ax.set_zlabel('Z')\n",
      "\n",
      "ax.set_title('3D Test')\n",
      "\n",
      "# Creating the Animation object\n",
      "line_ani = animation.FuncAnimation(fig, update_lines, 25, fargs=(data, lines),\n",
      "                              interval=50, blit=False)\n",
      "\n",
      "plt.show()"
     ],
     "language": "python",
     "metadata": {},
     "outputs": [
      {
       "metadata": {},
       "output_type": "display_data",
       "text": [
        "<matplotlib.figure.Figure at 0x3f0de10>"
       ]
      },
      {
       "metadata": {},
       "output_type": "display_data",
       "png": "[encoded data removed]",
       "text": [
        "<matplotlib.figure.Figure at 0x3f0dcd0>"
       ]
      }
     ],
     "prompt_number": 180
    },
    {
     "cell_type": "code",
     "collapsed": false,
     "input": [],
     "language": "python",
     "metadata": {},
     "outputs": []
    }
   ],
   "metadata": {}
  }
 ]
}