{
 "metadata": {
  "name": ""
 },
 "nbformat": 3,
 "nbformat_minor": 0,
 "worksheets": [
  {
   "cells": [
    {
     "cell_type": "code",
     "collapsed": false,
     "input": [
      "# we want to show Logistic Regression with/without regularization\n",
      "# visualize the change at each iteration (with/without regularization)\n",
      "# visualize changing parameters"
     ],
     "language": "python",
     "metadata": {},
     "outputs": [],
     "prompt_number": 1
    },
    {
     "cell_type": "markdown",
     "metadata": {},
     "source": [
      "## Representing the Logistic Regression Hypothesis\n",
      "\n"
     ]
    },
    {
     "cell_type": "markdown",
     "metadata": {},
     "source": [
      "Ok, we want $ 0 \\leq h_\\theta(x) \\leq 1 $\n",
      "            \n",
      "Remember this representation:           \n",
      "$ h_\\theta = g(\\theta^Tx) $      \n",
      "          \n",
      "where:      \n",
      "$ g(z) = \\frac{1}{1 + e^{-z}} $       \n",
      "       \n",
      "So our final representation is:    \n",
      "$ g(z) = \\frac{1}{1 + e^{-\\theta^Tx}} $\n",
      "\n",
      "__this is the *sigmoid* or *logistic* function__"
     ]
    },
    {
     "cell_type": "code",
     "collapsed": false,
     "input": [
      "# define the logistic function\n",
      "import numpy as np\n",
      "def sigmoid(x, theta=np.array(1.0)):\n",
      "    x = np.array(x)\n",
      "    theta = np.array(theta)\n",
      "    return(1 / (1 + np.exp(-x.dot(theta.T))))"
     ],
     "language": "python",
     "metadata": {},
     "outputs": [],
     "prompt_number": 2
    },
    {
     "cell_type": "code",
     "collapsed": false,
     "input": [
      "# cool, let's visualize it (x is 'z', y is 'g(z)')\n",
      "import matplotlib.pyplot as plt\n",
      "from pylab import *\n",
      "\n",
      "# notebook magic\n",
      "%matplotlib inline\n",
      "\n",
      "# map the sigmoid function over a vector of numbers\n",
      "x = np.arange(-6, 6, .01)\n",
      "y = [ sigmoid(n) for n in x ]\n",
      "\n",
      "# add a vertical line at 0\n",
      "plt.axvline(x=0, ymin=0, ymax=1, ls='--')\n",
      "\n",
      "plt.plot(x, y, color='red', lw=2)\n",
      "plt.xlabel('z')\n",
      "plt.ylabel('g(z)')\n",
      "plt.show()"
     ],
     "language": "python",
     "metadata": {},
     "outputs": [
      {
       "metadata": {},
       "output_type": "display_data",
       "png": "[encoded data removed]",
       "text": [
        "<matplotlib.figure.Figure at 0x4595f50>"
       ]
      }
     ],
     "prompt_number": 3
    },
    {
     "cell_type": "markdown",
     "metadata": {},
     "source": [
      "## Implementing Logistic Regression\n",
      "__our goal is to fit the parameters $ \\theta $ to our data__\n",
      "\n",
      "\n",
      "### Interpreting the hypothesis\n",
      "__The key idea is to interpret $ h_\\theta(x) $ as the probability that y = 1 for input x__     \n",
      "In other words, if x >= 0.5 we classify it as 1, if it's < 0.5, we classify it as 0      \n",
      "\n",
      "formally:     \n",
      "$ h_\\theta(x) = p(y=1 | x;\\theta) $\n",
      ">__\"the probability that y=1, given x, parameterized by $ \\theta $\"__ - Andrew Ng        \n",
      "      \n",
      "Note the following as well:     \n",
      "$ p(y=0| x;\\theta) + p(y=1| x;\\theta) = 1 $           \n",
      "$ p(y=0| x;\\theta) = 1 - p(y=1| x;\\theta) $    \n",
      "        \n",
      "Question: what values of z cause g(z) to be > 0.5 ?\n",
      "\n",
      "Note:     \n",
      "$ h_\\theta(x) = g(\\theta^Tx) \\geq 0.5 $ whenever $ \\theta^Tx \\geq 0 $       \n",
      "and conversely:      \n",
      "$ h_\\theta(x) = g(\\theta^Tx) \\lt 0.5 $ whenever $ \\theta^Tx \\lt 0 $"
     ]
    },
    {
     "cell_type": "markdown",
     "metadata": {},
     "source": [
      "### understanding and visualizing the decision boundary\n",
      "Remember that: $ h_\\theta(x) = g(\\theta_0 + \\theta_1x_1 + \\theta_2x_2) $      \n",
      "\n",
      "__possible exercise__:\n",
      "visualize the classes of points for a random array of sample data, and a sample parameter vector     \n",
      "if params are $ \\theta = [ -3,1,1 ] $, then the line for the decision boundary is $ -x + 3 $     "
     ]
    },
    {
     "cell_type": "code",
     "collapsed": false,
     "input": [
      "# notebook magic\n",
      "%matplotlib inline\n",
      "from numpy.random import random, randint\n",
      "\n",
      "def boundary(x):\n",
      "    x = np.float(x)\n",
      "    return (-x + 3)\n",
      "\n",
      "def random_point():\n",
      "    return (1, random()*randint(0,6), random()*randint(0,6))\n",
      "\n",
      "def decide(value):\n",
      "    if value >= 0.5:\n",
      "        return 1\n",
      "    return 0\n",
      "\n",
      "\n",
      "# an example vector of theta values\n",
      "example_theta = np.array([-3,1,1])\n",
      "\n",
      "plt.clf()\n",
      "markers = ['o', '+']\n",
      "colors = ['red', 'blue']\n",
      "points_x = [ random_point() for x in range(10) ]\n",
      "classes = [ decide(sigmoid(p, example_theta)) for p in points_x ]\n",
      "x_1 = [x[1] for x in points_x]\n",
      "x_2 = [x[2] for x in points_x]\n",
      "for i,p in enumerate(points_x):\n",
      "    x_1 = p[1]\n",
      "    x_2 = p[2]\n",
      "    c=classes[i]\n",
      "    plt.scatter(x_1, x_2, s=30.0, c=c, marker=markers[c], color=colors[c])\n",
      "    \n",
      "\n",
      "# map the sigmoid function over a vector of numbers\n",
      "x = np.arange(0, 3, .01)\n",
      "y = [ boundary(n) for n in x ]\n",
      "\n",
      "# add a vertical line at 0\n",
      "#plt.axvline(x=0, ymin=0, ymax=1, ls='--')\n",
      "\n",
      "plt.plot(x, y, color='red', lw=1, ls='--')\n",
      "plt.xlabel('x_1')\n",
      "plt.ylabel('x_2')\n",
      "plt.show()"
     ],
     "language": "python",
     "metadata": {},
     "outputs": [
      {
       "metadata": {},
       "output_type": "display_data",
       "png": "[encoded data removed]",
       "text": [
        "<matplotlib.figure.Figure at 0x4595b10>"
       ]
      }
     ],
     "prompt_number": 4
    },
    {
     "cell_type": "markdown",
     "metadata": {},
     "source": [
      "## Non-Linear decision boundaries\n",
      "__in logistic regression, to capture a non-linear boundary, we need to add polynomial features__     \n",
      "i.e.    \n",
      "$ h_\\theta(x) = g(\\theta_0 + \\theta_1x_1 + \\theta_2x_2 + \\theta_3x^2_1 + \\theta_4x^2_2) $       \n",
      "       \n",
      "Question: what happens if the $ \\theta $ values for the features above are [-1,0,0,1,1]?      \n",
      "Answer: predict y=1 when $ -1 + x^2_1 + x^2_2 \\geq 0 $       \n",
      "So the decision boundary is: $ x^2_1 + x^2_2 = 1 $ (a circle)               \n",
      "__Remember that the decision boundary is defined by $ \\theta $, not by the dataset__           \n",
      "--> higher-order polynomial features can make arbitrarily complex decision boundaries"
     ]
    },
    {
     "cell_type": "markdown",
     "metadata": {},
     "source": [
      "## Cost Function -- aka Optimization Objective        \n",
      "We have a training set: $ \\{(x^{(1)}, y^{(1)}), (x^{(2)}, y^{(2)}), ...,(x^{(m)}, y^{(m)}) \\} $          \n",
      "__each $x$ is a vector: $ [x_0, x_1, x_2, ..., x_n] $__         \n",
      "* note that $X_0 = 1$ ($\\theta_0$ is the 'bias' term)        \n",
      "since this is a classification problem, $ y \\in \\{0,1\\} $          \n",
      "       \n",
      "and remember:       \n",
      "$ g(z) = \\frac{1}{1 + e^{-\\theta^Tx}} $          \n",
      "        \n",
      "__So how do we find the right $\\theta$s?__     \n",
      "          \n",
      "For linear regression, the cost function was:         \n",
      "$J(\\theta) = \\frac{1}{m}\\sum\\limits_{i=1}^m\\frac{1}{2}(h_\\theta(x^{(i)}) - y^{(i)})^2 $\n",
      "       \n",
      "Let's represent the part after the sum as:     \n",
      "$ cost(h_\\theta(x^{(i)}, y^{(i)}) $           \n",
      "       \n",
      "So, for linear regression:     \n",
      "$ cost(h_\\theta(x^{(i)}, y^{(i)}) = \\frac{1}{2}(h_\\theta(x^{(i)}) - y^{(i)})^2 $          \n",
      "if we just define $h_\\theta(x)$ as the logistic (sigmoid) function, it's not convex    \n",
      "      \n",
      "So, redefine the cost function as:       \n",
      "          \n",
      "$ cost(h_\\theta(x), y) = \n",
      "\\begin{cases}\n",
      "-log(h_\\theta(x))~~if~~y = 1 \\\\\n",
      "-log(1 - h_\\theta(x))~~if~~y = 0\n",
      "\\end{cases} $                 \n",
      "           \n",
      "      \n",
      "### Get ready, something cool is coming....     \n",
      "because $ y = \\{0, 1\\} $      \n",
      "you can write the cost function succinctly as:      \n",
      "       \n",
      "$ cost(h_\\theta(x^{(i)}, y^{(i)}) = -y~log(h_\\theta(x)) - (1-y)log(1 - h_\\theta(x)) $    \n",
      "      \n",
      "__Important: convince yourself that this is true__       \n",
      "       \n",
      "The final version of the LR cost function for the whole dataset:      \n",
      "$ J(\\theta) = -\\frac{1}{m}[\\sum\\limits_{i=1}^m~y^{(i)}~log(h_\\theta(x^{(i)})) - (1-y^{(i)})log(1 - h_\\theta(x^{(i)}))] $\n",
      "                  "
     ]
    },
    {
     "cell_type": "markdown",
     "metadata": {},
     "source": [
      "## Training\n",
      "__We want to find:__\n",
      "       \n",
      "$\\displaystyle \\min_{\\theta}J(\\theta) $\n",
      "       \n",
      "given parameters $x$, we predict the $y$ value by:     \n",
      "$ h_\\theta(x) = \\frac{1}{1 + e^{-\\theta^Tx}} $     \n",
      "aka:    \n",
      "$ p(y=1 | x;\\theta) $            \n",
      "       \n",
      "The update template is:      \n",
      "Repeat {       \n",
      "$~~~~\\theta_j := \\theta_j - \\alpha\\frac{\\partial}{\\partial\\theta_j}J(\\theta) $            \n",
      "}     \n",
      "$\\alpha$ is the learning rate     \n",
      "We update all $\\theta_j$ __simultaeneously__     \n",
      "       \n",
      "__Note: don't fear the partial derivative, it's really simple in practice:__     \n",
      "      \n",
      "$ \\frac{\\partial}{\\partial\\theta_j}J(\\theta) = \\frac{1}{m}\\sum\\limits_{i=1}^m(h_\\theta(x^{(i)}) - y^{(i)})x_j^{(i)} $             \n",
      "       \n",
      "__so the update equation becomes: __      \n",
      "\n",
      "Repeat {       \n",
      "$~~~~\\theta_j := \\theta_j - \\alpha\\frac{1}{m}\\sum\\limits_{i=1}^m(h_\\theta(x^{(i)}) - y^{(i)})x_j^{(i)} $            \n",
      "}      \n",
      "__this is identical to the update rule for gradient descent for Linear Regression__      \n",
      "       \n",
      "the vectorized version of the update template (note the missing $j$s):      \n",
      "\n",
      "$~~~~\\theta := \\theta - \\alpha\\frac{1}{m}\\sum\\limits_{i=1}^m[(h_\\theta(x^{(i)}) - y^{(i)})x^{(i)}] $      "
     ]
    },
    {
     "cell_type": "markdown",
     "metadata": {},
     "source": [
      "### Prepare a Dataset\n"
     ]
    },
    {
     "cell_type": "code",
     "collapsed": false,
     "input": [
      "# some binary classification datasets can be found here: http://www.csie.ntu.edu.tw/~cjlin/libsvmtools/datasets/binary.html\n",
      "from sklearn.datasets import load_iris\n",
      "import random\n",
      "\n",
      "# Get some data and munge it into the format we want\n",
      "data = load_iris()\n",
      "binary_iris = np.array(data.target) == 0\n",
      "\n",
      "class_map = { True: 1.0, False: 0.0 }\n",
      "binary_y = np.array([ class_map[c] for c in binary_iris ])\n",
      "\n",
      "# the full datasets\n",
      "X = data.data[:data.data.shape[0] - np.int(data.data.shape[0] / 3), :]\n",
      "y = binary_y[:data.data.shape[0] - np.int(data.data.shape[0] / 3)]\n",
      "\n",
      "# split test/train\n",
      "id_list = range(len(data.target))\n",
      "random.shuffle(id_list)\n",
      "train_X = data.data[[id_list[:120]]]\n",
      "test_X = data.data[[id_list[120:]]]\n",
      "train_y = binary_y[[id_list[:120]]]\n",
      "test_y = binary_y[[id_list[120:]]]"
     ],
     "language": "python",
     "metadata": {},
     "outputs": [],
     "prompt_number": 5
    },
    {
     "cell_type": "code",
     "collapsed": false,
     "input": [
      "# compute the hypothesis for the row, subtract y, and put the value in every cell of that row\n",
      "# scale each cell by the x_j of that cell (multiply cellwise with the original array)\n",
      "# average columns, and multiply by alpha\n",
      "# subtract that vector from the previous theta to get the new theta for this iteration\n",
      "\n",
      "# this theta will get updated as the algorithm iterates\n",
      "# theta = np.random.uniform(-1.0,1.0,[1,X.shape[1]])\n",
      "theta = np.zeros((1,X.shape[1]))\n",
      "original_theta = np.array(theta)\n",
      "\n",
      "# alpha = 0.1\n",
      "\n",
      "# completely vectorized implementation\n",
      "def iterate(X, y, theta, alpha):\n",
      "    updates = np.average(X * (sigmoid(X, theta).T - y).T, axis=0) * alpha\n",
      "    new_theta = theta - updates\n",
      "    return new_theta\n",
      "\n",
      "# just for demo purposes - a more straightforward version of the function above\n",
      "def simple_iterate(X, y, theta, alpha):\n",
      "    hypotheses = sigmoid(X, theta)\n",
      "    minus_y = hypotheses.T - y\n",
      "    scaled_by_x = X * minus_y.T\n",
      "    col_averages = np.average(scaled_by_x, axis=0)\n",
      "    updates = col_averages * alpha\n",
      "    new_theta = theta - updates\n",
      "    return new_theta"
     ],
     "language": "python",
     "metadata": {},
     "outputs": [],
     "prompt_number": 6
    },
    {
     "cell_type": "code",
     "collapsed": false,
     "input": [
      "# let's test the accuracy of our classifier with different parameters\n",
      "# sanity check -- let's check its performance on the training data\n",
      "def predict(x, theta):\n",
      "    return sigmoid(x, theta)\n",
      "\n",
      "def classes(y):\n",
      "    if y == 1.0:\n",
      "        return True\n",
      "    return False\n",
      "\n",
      "def check_accuracy(predictions, y):\n",
      "    binarized_predictions = predictions >= 0.5\n",
      "    tf = np.array([ classes(c) for c in y ], dtype='bool')\n",
      "    correct = binarized_predictions[:,0] == tf\n",
      "    score = np.sum([ 1 for s in correct if s == True ]) / np.float(len(correct))\n",
      "    return(score)\n",
      "  "
     ],
     "language": "python",
     "metadata": {},
     "outputs": [],
     "prompt_number": 7
    },
    {
     "cell_type": "code",
     "collapsed": false,
     "input": [
      "# To predict, all we need is a theta - let's check performance before training\n",
      "check_accuracy(predict(test_X, original_theta), test_y)"
     ],
     "language": "python",
     "metadata": {},
     "outputs": [
      {
       "metadata": {},
       "output_type": "pyout",
       "prompt_number": 8,
       "text": [
        "0.26666666666666666"
       ]
      }
     ],
     "prompt_number": 8
    },
    {
     "cell_type": "code",
     "collapsed": false,
     "input": [
      "# note: this is just for sanity checks\n",
      "def cost_function(X, answers, theta):\n",
      "    total = 0.0\n",
      "    for x,y in zip(X,answers):\n",
      "        hyp = sigmoid(x, theta)\n",
      "        total += ( (y * np.log(hyp)) - ((1-y) * np.log(1-hyp)) ) \n",
      "    cost = -(total / len(answers))\n",
      "    return cost"
     ],
     "language": "python",
     "metadata": {},
     "outputs": [],
     "prompt_number": 9
    },
    {
     "cell_type": "code",
     "collapsed": false,
     "input": [
      "# print the original theta, and the output of the cost function\n",
      "print(theta)\n",
      "print(cost_function(train_X, train_y, theta))\n",
      "\n",
      "def gradient_descent(X, y, theta, alpha, num_iterations=100):\n",
      "    working_theta = np.array(theta)\n",
      "    for i in range(num_iterations):\n",
      "        working_theta = iterate(X, y, working_theta, alpha)\n",
      "        print(cost_function(train_X, train_y, working_theta))\n",
      "    return np.array(working_theta)\n",
      "        \n",
      "alpha = 0.005\n",
      "num_iterations = 500\n",
      "#print(\"final/best theta: \")\n",
      "best_theta = gradient_descent(train_X, train_y, theta, alpha, num_iterations) \n",
      "#best_theta"
     ],
     "language": "python",
     "metadata": {},
     "outputs": [
      {
       "output_type": "stream",
       "stream": "stdout",
       "text": [
        "[[ 0.  0.  0.  0.]]\n",
        "[-0.20794415]\n",
        "[-0.1756828]\n",
        "[-0.14658949]\n",
        "[-0.12032579]\n",
        "[-0.09658831]"
       ]
      },
      {
       "output_type": "stream",
       "stream": "stdout",
       "text": [
        "\n",
        "[-0.07510675]\n",
        "[-0.05564129]\n",
        "[-0.03797971]\n",
        "[-0.02193446]\n",
        "[-0.00733992]"
       ]
      },
      {
       "output_type": "stream",
       "stream": "stdout",
       "text": [
        "\n",
        "[ 0.00595028]\n",
        "[ 0.01806553]\n",
        "[ 0.02912041]\n",
        "[ 0.03921652]\n",
        "[ 0.04844409]\n",
        "[ 0.05688346]"
       ]
      },
      {
       "output_type": "stream",
       "stream": "stdout",
       "text": [
        "\n",
        "[ 0.06460625]\n",
        "[ 0.07167648]\n",
        "[ 0.0781515]\n",
        "[ 0.08408275]\n",
        "[ 0.08951651]\n",
        "[ 0.09449449]"
       ]
      },
      {
       "output_type": "stream",
       "stream": "stdout",
       "text": [
        "\n",
        "[ 0.09905434]\n",
        "[ 0.10323013]\n",
        "[ 0.10705276]\n",
        "[ 0.11055025]\n",
        "[ 0.11374812]\n",
        "[ 0.11666962]\n",
        "[ 0.11933596]\n",
        "[ 0.12176652]"
       ]
      },
      {
       "output_type": "stream",
       "stream": "stdout",
       "text": [
        "\n",
        "[ 0.12397905]\n",
        "[ 0.12598983]\n",
        "[ 0.12781377]\n",
        "[ 0.12946461]\n",
        "[ 0.13095496]\n",
        "[ 0.13229645]\n",
        "[ 0.13349981]\n",
        "[ 0.13457492]\n",
        "[ 0.13553093]"
       ]
      },
      {
       "output_type": "stream",
       "stream": "stdout",
       "text": [
        "\n",
        "[ 0.1363763]\n",
        "[ 0.13711884]\n",
        "[ 0.13776581]\n",
        "[ 0.13832392]\n",
        "[ 0.13879941]\n",
        "[ 0.13919805]\n",
        "[ 0.13952523]\n",
        "[ 0.13978593]"
       ]
      },
      {
       "output_type": "stream",
       "stream": "stdout",
       "text": [
        "\n",
        "[ 0.13998479]\n",
        "[ 0.14012615]\n",
        "[ 0.14021402]\n",
        "[ 0.14025214]\n",
        "[ 0.14024402]\n",
        "[ 0.14019289]\n",
        "[ 0.14010179]\n",
        "[ 0.13997356]\n",
        "[ 0.13981083]"
       ]
      },
      {
       "output_type": "stream",
       "stream": "stdout",
       "text": [
        "\n",
        "[ 0.13961608]\n",
        "[ 0.13939159]\n",
        "[ 0.13913952]\n",
        "[ 0.13886187]\n",
        "[ 0.13856053]\n",
        "[ 0.13823725]\n",
        "[ 0.13789366]\n",
        "[ 0.1375313]\n",
        "[ 0.1371516]"
       ]
      },
      {
       "output_type": "stream",
       "stream": "stdout",
       "text": [
        "\n",
        "[ 0.1367559]\n",
        "[ 0.13634546]\n",
        "[ 0.13592144]\n",
        "[ 0.13548495]\n",
        "[ 0.135037]\n",
        "[ 0.13457856]\n",
        "[ 0.13411054]\n",
        "[ 0.13363376]\n",
        "[ 0.13314901]"
       ]
      },
      {
       "output_type": "stream",
       "stream": "stdout",
       "text": [
        "\n",
        "[ 0.13265704]\n",
        "[ 0.13215853]\n",
        "[ 0.13165412]\n",
        "[ 0.13114442]\n",
        "[ 0.13062999]\n",
        "[ 0.13011136]\n",
        "[ 0.12958902]\n",
        "[ 0.12906343]"
       ]
      },
      {
       "output_type": "stream",
       "stream": "stdout",
       "text": [
        "\n",
        "[ 0.12853504]\n",
        "[ 0.12800422]\n",
        "[ 0.12747138]\n",
        "[ 0.12693686]\n",
        "[ 0.12640098]\n",
        "[ 0.12586406]\n",
        "[ 0.12532638]\n",
        "[ 0.12478822]\n",
        "[ 0.12424982]\n",
        "[ 0.12371141]"
       ]
      },
      {
       "output_type": "stream",
       "stream": "stdout",
       "text": [
        "\n",
        "[ 0.12317322]\n",
        "[ 0.12263545]\n",
        "[ 0.12209828]\n",
        "[ 0.1215619]\n",
        "[ 0.12102646]\n",
        "[ 0.12049213]\n",
        "[ 0.11995903]\n",
        "[ 0.11942731]\n",
        "[ 0.11889709]"
       ]
      },
      {
       "output_type": "stream",
       "stream": "stdout",
       "text": [
        "\n",
        "[ 0.11836848]\n",
        "[ 0.11784158]\n",
        "[ 0.11731649]\n",
        "[ 0.11679331]\n",
        "[ 0.11627211]\n",
        "[ 0.11575297]\n",
        "[ 0.11523597]\n",
        "[ 0.11472117]\n",
        "[ 0.11420862]"
       ]
      },
      {
       "output_type": "stream",
       "stream": "stdout",
       "text": [
        "\n",
        "[ 0.11369838]\n",
        "[ 0.11319051]\n",
        "[ 0.11268505]\n",
        "[ 0.11218203]\n",
        "[ 0.1116815]\n",
        "[ 0.11118349]\n",
        "[ 0.11068803]\n",
        "[ 0.11019515]\n",
        "[ 0.10970487]"
       ]
      },
      {
       "output_type": "stream",
       "stream": "stdout",
       "text": [
        "\n",
        "[ 0.10921722]\n",
        "[ 0.10873221]\n",
        "[ 0.10824986]\n",
        "[ 0.10777018]\n",
        "[ 0.10729319]\n",
        "[ 0.10681889]\n",
        "[ 0.1063473]\n",
        "[ 0.10587841]\n",
        "[ 0.10541224]"
       ]
      },
      {
       "output_type": "stream",
       "stream": "stdout",
       "text": [
        "\n",
        "[ 0.10494879]\n",
        "[ 0.10448806]\n",
        "[ 0.10403004]\n",
        "[ 0.10357474]\n",
        "[ 0.10312216]\n",
        "[ 0.1026723]\n",
        "[ 0.10222514]\n",
        "[ 0.10178068]"
       ]
      },
      {
       "output_type": "stream",
       "stream": "stdout",
       "text": [
        "\n",
        "[ 0.10133892]\n",
        "[ 0.10089986]\n",
        "[ 0.10046347]\n",
        "[ 0.10002976]\n",
        "[ 0.09959871]\n",
        "[ 0.09917032]\n",
        "[ 0.09874457]\n",
        "[ 0.09832146]\n",
        "[ 0.09790097]\n",
        "[ 0.09748309]"
       ]
      },
      {
       "output_type": "stream",
       "stream": "stdout",
       "text": [
        "\n",
        "[ 0.09706782]\n",
        "[ 0.09665512]\n",
        "[ 0.096245]\n",
        "[ 0.09583744]\n",
        "[ 0.09543243]\n",
        "[ 0.09502995]\n",
        "[ 0.09462999]\n",
        "[ 0.09423254]"
       ]
      },
      {
       "output_type": "stream",
       "stream": "stdout",
       "text": [
        "\n",
        "[ 0.09383758]\n",
        "[ 0.09344509]\n",
        "[ 0.09305506]\n",
        "[ 0.09266748]\n",
        "[ 0.09228233]\n",
        "[ 0.09189959]\n",
        "[ 0.09151926]\n",
        "[ 0.09114131]\n",
        "[ 0.09076573]\n",
        "[ 0.09039251]"
       ]
      },
      {
       "output_type": "stream",
       "stream": "stdout",
       "text": [
        "\n",
        "[ 0.09002163]\n",
        "[ 0.08965306]\n",
        "[ 0.08928681]\n",
        "[ 0.08892285]\n",
        "[ 0.08856117]\n",
        "[ 0.08820174]\n",
        "[ 0.08784457]\n",
        "[ 0.08748962]"
       ]
      },
      {
       "output_type": "stream",
       "stream": "stdout",
       "text": [
        "\n",
        "[ 0.08713689]\n",
        "[ 0.08678635]\n",
        "[ 0.086438]\n",
        "[ 0.08609182]\n",
        "[ 0.08574779]\n",
        "[ 0.0854059]\n",
        "[ 0.08506613]\n",
        "[ 0.08472847]\n",
        "[ 0.0843929]"
       ]
      },
      {
       "output_type": "stream",
       "stream": "stdout",
       "text": [
        "\n",
        "[ 0.0840594]\n",
        "[ 0.08372797]\n",
        "[ 0.08339858]\n",
        "[ 0.08307123]\n",
        "[ 0.08274589]\n",
        "[ 0.08242255]\n",
        "[ 0.0821012]\n",
        "[ 0.08178183]"
       ]
      },
      {
       "output_type": "stream",
       "stream": "stdout",
       "text": [
        "\n",
        "[ 0.08146441]\n",
        "[ 0.08114893]\n",
        "[ 0.08083539]\n",
        "[ 0.08052376]\n",
        "[ 0.08021403]\n",
        "[ 0.07990619]\n",
        "[ 0.07960022]\n",
        "[ 0.07929611]\n",
        "[ 0.07899385]\n",
        "[ 0.07869342]"
       ]
      },
      {
       "output_type": "stream",
       "stream": "stdout",
       "text": [
        "\n",
        "[ 0.0783948]\n",
        "[ 0.07809799]\n",
        "[ 0.07780297]\n",
        "[ 0.07750973]\n",
        "[ 0.07721826]\n",
        "[ 0.07692853]\n",
        "[ 0.07664055]\n",
        "[ 0.07635429]"
       ]
      },
      {
       "output_type": "stream",
       "stream": "stdout",
       "text": [
        "\n",
        "[ 0.07606974]\n",
        "[ 0.07578689]\n",
        "[ 0.07550573]\n",
        "[ 0.07522624]\n",
        "[ 0.07494842]\n",
        "[ 0.07467224]"
       ]
      },
      {
       "output_type": "stream",
       "stream": "stdout",
       "text": [
        "\n",
        "[ 0.07439771]\n",
        "[ 0.07412479]\n",
        "[ 0.0738535]\n",
        "[ 0.0735838]\n",
        "[ 0.07331569]\n",
        "[ 0.07304916]\n",
        "[ 0.0727842]\n",
        "[ 0.07252079]\n",
        "[ 0.07225892]"
       ]
      },
      {
       "output_type": "stream",
       "stream": "stdout",
       "text": [
        "\n",
        "[ 0.07199859]\n",
        "[ 0.07173977]\n",
        "[ 0.07148246]\n",
        "[ 0.07122666]\n",
        "[ 0.07097233]\n",
        "[ 0.07071949]\n",
        "[ 0.07046811]\n",
        "[ 0.07021818]"
       ]
      },
      {
       "output_type": "stream",
       "stream": "stdout",
       "text": [
        "\n",
        "[ 0.06996969]\n",
        "[ 0.06972264]\n",
        "[ 0.06947701]\n",
        "[ 0.06923279]\n",
        "[ 0.06898997]\n",
        "[ 0.06874855]"
       ]
      },
      {
       "output_type": "stream",
       "stream": "stdout",
       "text": [
        "\n",
        "[ 0.0685085]\n",
        "[ 0.06826983]\n",
        "[ 0.06803251]\n",
        "[ 0.06779655]\n",
        "[ 0.06756193]\n",
        "[ 0.06732863]\n",
        "[ 0.06709666]\n",
        "[ 0.066866]\n",
        "[ 0.06663665]"
       ]
      },
      {
       "output_type": "stream",
       "stream": "stdout",
       "text": [
        "\n",
        "[ 0.06640858]\n",
        "[ 0.0661818]\n",
        "[ 0.0659563]\n",
        "[ 0.06573205]\n",
        "[ 0.06550907]\n",
        "[ 0.06528733]\n",
        "[ 0.06506683]\n",
        "[ 0.06484755]"
       ]
      },
      {
       "output_type": "stream",
       "stream": "stdout",
       "text": [
        "\n",
        "[ 0.0646295]\n",
        "[ 0.06441266]\n",
        "[ 0.06419702]\n",
        "[ 0.06398257]\n",
        "[ 0.06376931]\n",
        "[ 0.06355722]\n",
        "[ 0.0633463]\n",
        "[ 0.06313655]\n",
        "[ 0.06292794]\n",
        "[ 0.06272048]"
       ]
      },
      {
       "output_type": "stream",
       "stream": "stdout",
       "text": [
        "\n",
        "[ 0.06251415]\n",
        "[ 0.06230895]\n",
        "[ 0.06210487]\n",
        "[ 0.0619019]\n",
        "[ 0.06170003]\n",
        "[ 0.06149926]\n",
        "[ 0.06129958]\n",
        "[ 0.06110098]\n",
        "[ 0.06090344]"
       ]
      },
      {
       "output_type": "stream",
       "stream": "stdout",
       "text": [
        "\n",
        "[ 0.06070698]\n",
        "[ 0.06051157]\n",
        "[ 0.06031721]\n",
        "[ 0.06012389]\n",
        "[ 0.05993161]\n",
        "[ 0.05974036]\n",
        "[ 0.05955013]\n",
        "[ 0.05936091]\n",
        "[ 0.05917269]\n",
        "[ 0.05898548]"
       ]
      },
      {
       "output_type": "stream",
       "stream": "stdout",
       "text": [
        "\n",
        "[ 0.05879926]\n",
        "[ 0.05861402]\n",
        "[ 0.05842977]\n",
        "[ 0.05824648]\n",
        "[ 0.05806417]\n",
        "[ 0.0578828]\n",
        "[ 0.0577024]\n",
        "[ 0.05752293]\n",
        "[ 0.05734441]"
       ]
      },
      {
       "output_type": "stream",
       "stream": "stdout",
       "text": [
        "\n",
        "[ 0.05716682]\n",
        "[ 0.05699015]\n",
        "[ 0.05681441]\n",
        "[ 0.05663957]\n",
        "[ 0.05646565]\n",
        "[ 0.05629262]\n",
        "[ 0.05612049]\n",
        "[ 0.05594925]\n",
        "[ 0.05577889]"
       ]
      },
      {
       "output_type": "stream",
       "stream": "stdout",
       "text": [
        "\n",
        "[ 0.05560941]\n",
        "[ 0.0554408]\n",
        "[ 0.05527305]\n",
        "[ 0.05510617]\n",
        "[ 0.05494013]\n",
        "[ 0.05477494]\n",
        "[ 0.0546106]\n",
        "[ 0.05444709]"
       ]
      },
      {
       "output_type": "stream",
       "stream": "stdout",
       "text": [
        "\n",
        "[ 0.05428441]\n",
        "[ 0.05412255]\n",
        "[ 0.05396151]\n",
        "[ 0.05380129]\n",
        "[ 0.05364188]\n",
        "[ 0.05348326]\n",
        "[ 0.05332545]\n",
        "[ 0.05316843]\n",
        "[ 0.05301219]\n",
        "[ 0.05285674]"
       ]
      },
      {
       "output_type": "stream",
       "stream": "stdout",
       "text": [
        "\n",
        "[ 0.05270206]\n",
        "[ 0.05254815]\n",
        "[ 0.05239501]\n",
        "[ 0.05224263]\n",
        "[ 0.05209101]\n",
        "[ 0.05194014]\n",
        "[ 0.05179001]\n",
        "[ 0.05164062]"
       ]
      },
      {
       "output_type": "stream",
       "stream": "stdout",
       "text": [
        "\n",
        "[ 0.05149197]\n",
        "[ 0.05134406]\n",
        "[ 0.05119686]\n",
        "[ 0.0510504]\n",
        "[ 0.05090464]\n",
        "[ 0.0507596]"
       ]
      },
      {
       "output_type": "stream",
       "stream": "stdout",
       "text": [
        "\n",
        "[ 0.05061527]\n",
        "[ 0.05047164]\n",
        "[ 0.05032871]\n",
        "[ 0.05018648]\n",
        "[ 0.05004493]\n",
        "[ 0.04990407]\n",
        "[ 0.04976389]\n",
        "[ 0.04962438]"
       ]
      },
      {
       "output_type": "stream",
       "stream": "stdout",
       "text": [
        "\n",
        "[ 0.04948555]\n",
        "[ 0.04934739]\n",
        "[ 0.04920988]\n",
        "[ 0.04907304]\n",
        "[ 0.04893685]\n",
        "[ 0.04880132]\n",
        "[ 0.04866643]\n",
        "[ 0.04853218]"
       ]
      },
      {
       "output_type": "stream",
       "stream": "stdout",
       "text": [
        "\n",
        "[ 0.04839857]\n",
        "[ 0.04826559]\n",
        "[ 0.04813324]\n",
        "[ 0.04800152]\n",
        "[ 0.04787043]\n",
        "[ 0.04773995]"
       ]
      },
      {
       "output_type": "stream",
       "stream": "stdout",
       "text": [
        "\n",
        "[ 0.04761008]\n",
        "[ 0.04748082]\n",
        "[ 0.04735218]\n",
        "[ 0.04722413]\n",
        "[ 0.04709668]\n",
        "[ 0.04696983]\n",
        "[ 0.04684357]\n",
        "[ 0.0467179]\n",
        "[ 0.04659281]\n",
        "[ 0.0464683]"
       ]
      },
      {
       "output_type": "stream",
       "stream": "stdout",
       "text": [
        "\n",
        "[ 0.04634437]\n",
        "[ 0.04622101]\n",
        "[ 0.04609822]\n",
        "[ 0.04597599]\n",
        "[ 0.04585433]\n",
        "[ 0.04573323]\n",
        "[ 0.04561268]\n",
        "[ 0.04549269]\n",
        "[ 0.04537324]"
       ]
      },
      {
       "output_type": "stream",
       "stream": "stdout",
       "text": [
        "\n",
        "[ 0.04525434]\n",
        "[ 0.04513599]\n",
        "[ 0.04501817]\n",
        "[ 0.04490088]\n",
        "[ 0.04478413]\n",
        "[ 0.0446679]\n",
        "[ 0.04455221]\n",
        "[ 0.04443703]\n",
        "[ 0.04432237]"
       ]
      },
      {
       "output_type": "stream",
       "stream": "stdout",
       "text": [
        "\n",
        "[ 0.04420823]\n",
        "[ 0.0440946]\n",
        "[ 0.04398148]\n",
        "[ 0.04386887]\n",
        "[ 0.04375676]\n",
        "[ 0.04364515]\n",
        "[ 0.04353404]\n",
        "[ 0.04342343]"
       ]
      },
      {
       "output_type": "stream",
       "stream": "stdout",
       "text": [
        "\n",
        "[ 0.0433133]\n",
        "[ 0.04320367]\n",
        "[ 0.04309452]\n",
        "[ 0.04298585]\n",
        "[ 0.04287766]\n",
        "[ 0.04276995]\n",
        "[ 0.04266271]\n",
        "[ 0.04255594]\n",
        "[ 0.04244964]"
       ]
      },
      {
       "output_type": "stream",
       "stream": "stdout",
       "text": [
        "\n",
        "[ 0.04234381]\n",
        "[ 0.04223844]\n",
        "[ 0.04213353]\n",
        "[ 0.04202908]\n",
        "[ 0.04192508]\n",
        "[ 0.04182154]\n",
        "[ 0.04171844]\n",
        "[ 0.04161579]"
       ]
      },
      {
       "output_type": "stream",
       "stream": "stdout",
       "text": [
        "\n",
        "[ 0.04151358]\n",
        "[ 0.04141182]\n",
        "[ 0.04131049]\n",
        "[ 0.0412096]\n",
        "[ 0.04110915]"
       ]
      },
      {
       "output_type": "stream",
       "stream": "stdout",
       "text": [
        "\n",
        "[ 0.04100912]\n",
        "[ 0.04090953]\n",
        "[ 0.04081036]\n",
        "[ 0.04071161]\n",
        "[ 0.04061328]\n",
        "[ 0.04051538]\n",
        "[ 0.04041788]\n",
        "[ 0.04032081]"
       ]
      },
      {
       "output_type": "stream",
       "stream": "stdout",
       "text": [
        "\n",
        "[ 0.04022414]\n",
        "[ 0.04012789]\n",
        "[ 0.04003204]\n",
        "[ 0.03993659]\n",
        "[ 0.03984155]\n",
        "[ 0.0397469]\n",
        "[ 0.03965266]\n",
        "[ 0.03955881]\n",
        "[ 0.03946535]"
       ]
      },
      {
       "output_type": "stream",
       "stream": "stdout",
       "text": [
        "\n",
        "[ 0.03937228]\n",
        "[ 0.0392796]\n",
        "[ 0.03918731]\n",
        "[ 0.0390954]\n",
        "[ 0.03900387]\n",
        "[ 0.03891272]"
       ]
      },
      {
       "output_type": "stream",
       "stream": "stdout",
       "text": [
        "\n",
        "[ 0.03882195]\n",
        "[ 0.03873156]\n",
        "[ 0.03864154]\n",
        "[ 0.03855188]\n",
        "[ 0.0384626]\n",
        "[ 0.03837369]\n",
        "[ 0.03828514]\n",
        "[ 0.03819695]\n",
        "[ 0.03810912]"
       ]
      },
      {
       "output_type": "stream",
       "stream": "stdout",
       "text": [
        "\n",
        "[ 0.03802166]\n",
        "[ 0.03793454]\n",
        "[ 0.03784779]\n",
        "[ 0.03776138]\n",
        "[ 0.03767533]\n",
        "[ 0.03758963]\n",
        "[ 0.03750427]\n",
        "[ 0.03741926]"
       ]
      },
      {
       "output_type": "stream",
       "stream": "stdout",
       "text": [
        "\n",
        "[ 0.03733459]\n",
        "[ 0.03725026]\n",
        "[ 0.03716627]\n",
        "[ 0.03708262]\n",
        "[ 0.03699931]\n",
        "[ 0.03691632]\n",
        "[ 0.03683367]\n",
        "[ 0.03675135]\n",
        "[ 0.03666936]\n",
        "[ 0.0365877]"
       ]
      },
      {
       "output_type": "stream",
       "stream": "stdout",
       "text": [
        "\n",
        "[ 0.03650635]\n",
        "[ 0.03642534]\n",
        "[ 0.03634464]\n",
        "[ 0.03626426]\n",
        "[ 0.0361842]\n",
        "[ 0.03610446]\n",
        "[ 0.03602503]\n",
        "[ 0.03594591]"
       ]
      },
      {
       "output_type": "stream",
       "stream": "stdout",
       "text": [
        "\n",
        "[ 0.0358671]\n",
        "[ 0.0357886]\n",
        "[ 0.03571041]\n",
        "[ 0.03563253]\n",
        "[ 0.03555495]\n",
        "[ 0.03547767]"
       ]
      },
      {
       "output_type": "stream",
       "stream": "stdout",
       "text": [
        "\n",
        "[ 0.03540069]\n",
        "[ 0.03532401]\n",
        "[ 0.03524763]\n",
        "[ 0.03517155]\n",
        "[ 0.03509576]\n",
        "[ 0.03502026]\n",
        "[ 0.03494505]\n",
        "[ 0.03487014]\n",
        "[ 0.03479551]\n",
        "[ 0.03472117]"
       ]
      },
      {
       "output_type": "stream",
       "stream": "stdout",
       "text": [
        "\n",
        "[ 0.03464711]\n",
        "[ 0.03457334]\n",
        "[ 0.03449985]\n",
        "[ 0.03442664]\n",
        "[ 0.03435371]\n",
        "[ 0.03428106]\n",
        "[ 0.03420868]\n",
        "[ 0.03413658]\n",
        "[ 0.03406475]"
       ]
      },
      {
       "output_type": "stream",
       "stream": "stdout",
       "text": [
        "\n",
        "[ 0.03399319]\n",
        "[ 0.03392191]\n",
        "[ 0.03385089]\n",
        "[ 0.03378014]\n",
        "[ 0.03370966]\n",
        "[ 0.03363944]\n"
       ]
      }
     ],
     "prompt_number": 10
    },
    {
     "cell_type": "code",
     "collapsed": false,
     "input": [
      "predictions = predict(test_X, best_theta)    \n",
      "check_accuracy(predictions, test_y)"
     ],
     "language": "python",
     "metadata": {},
     "outputs": [
      {
       "metadata": {},
       "output_type": "pyout",
       "prompt_number": 11,
       "text": [
        "1.0"
       ]
      }
     ],
     "prompt_number": 11
    },
    {
     "cell_type": "code",
     "collapsed": false,
     "input": [
      "# the following graph shows what the cost function looks like for y = 1 and y = 0\n",
      "plt.clf()\n",
      "\n",
      "def positive_cost(hyp_value):\n",
      "    return -(np.log(hyp_value))\n",
      "\n",
      "def negative_cost(hyp_value):\n",
      "    return -(np.log(1 - hyp_value))\n",
      "\n",
      "# map cost function over some numbers\n",
      "pos_x = np.arange(0.01, 1, .01)\n",
      "pos_y = [ positive_cost(n) for n in pos_x ]\n",
      "\n",
      "neg_x = np.arange(0.01, 1, .01)\n",
      "neg_y = [ negative_cost(n) for n in neg_x ]\n",
      "\n",
      "# add a horizontal line at 0\n",
      "#plt.axvline(x=0, ymin=0, ymax=1, ls='--')\n",
      "\n",
      "plt.plot(pos_x, pos_y, color='blue', lw=2)\n",
      "plt.plot(neg_x, neg_y, color='red', lw=2)\n",
      "plt.xlabel('hypothesis')\n",
      "plt.ylabel('cost')\n",
      "plt.show()"
     ],
     "language": "python",
     "metadata": {},
     "outputs": [
      {
       "metadata": {},
       "output_type": "display_data",
       "png": "[encoded data removed]",
       "text": [
        "<matplotlib.figure.Figure at 0x32e2b50>"
       ]
      }
     ],
     "prompt_number": 12
    },
    {
     "cell_type": "markdown",
     "metadata": {},
     "source": [
      "__Question: Explain why this is a good cost function for learning the parameters of a binary classifier__"
     ]
    },
    {
     "cell_type": "markdown",
     "metadata": {},
     "source": [
      "### Exercises:      \n",
      "(1) Plot the cost function as logistic regression iterates      \n",
      "(2) Try several different learning rates (alphas), and plot what happens when alpha changes (your plot should have several lines)     \n",
      "(3) Load a new dataset and try Logistic Regression on that dataset     "
     ]
    },
    {
     "cell_type": "code",
     "collapsed": false,
     "input": [],
     "language": "python",
     "metadata": {},
     "outputs": []
    }
   ],
   "metadata": {}
  }
 ]
}