{
 "metadata": {
  "name": ""
 },
 "nbformat": 3,
 "nbformat_minor": 0,
 "worksheets": [
  {
   "cells": [
    {
     "cell_type": "markdown",
     "metadata": {},
     "source": [
      "### A quick walk-through of numpy basics"
     ]
    },
    {
     "cell_type": "code",
     "collapsed": false,
     "input": [
      "# prevent confusing errors\n",
      "from __future__ import print_function, division"
     ],
     "language": "python",
     "metadata": {},
     "outputs": [],
     "prompt_number": 51
    },
    {
     "cell_type": "code",
     "collapsed": false,
     "input": [
      "# importing datasets (lots of sample data here: http://mldata.org/)\n",
      "# note: pandas can be really helpful for this\n",
      "import numpy as np\n",
      "import scipy as sp\n",
      "import sklearn"
     ],
     "language": "python",
     "metadata": {},
     "outputs": [],
     "prompt_number": 52
    },
    {
     "cell_type": "code",
     "collapsed": false,
     "input": [
      "# working with numpy\n",
      "x = np.random.random((5,5))\n",
      "x"
     ],
     "language": "python",
     "metadata": {},
     "outputs": []
    },
    {
     "cell_type": "code",
     "collapsed": false,
     "input": [
      "# creating an array (vector)\n",
      "a = np.array(range(10))\n",
      "a"
     ],
     "language": "python",
     "metadata": {},
     "outputs": [
      {
       "metadata": {},
       "output_type": "pyout",
       "prompt_number": 54,
       "text": [
        "array([0, 1, 2, 3, 4, 5, 6, 7, 8, 9])"
       ]
      }
     ],
     "prompt_number": 54
    },
    {
     "cell_type": "code",
     "collapsed": false,
     "input": [
      "# note that the \"axis\" keyword argument is the axis we're operating ALONG\n",
      "# so axis=0 operates downward (along rows), and axis=1 operates across (along columns)\n",
      "# sum rows\n",
      "row_sums = np.sum(x, axis=1)\n",
      "normalized_sums = row_sums / np.max(row_sums)\n",
      "\n",
      "np.average(x)\n",
      "centered = x - np.average(x)\n",
      "centered"
     ],
     "language": "python",
     "metadata": {},
     "outputs": [
      {
       "metadata": {},
       "output_type": "pyout",
       "prompt_number": 97,
       "text": [
        "array([ 1.96940421,  3.33984771,  2.37229195,  2.37632698,  2.53734642])"
       ]
      }
     ],
     "prompt_number": 97
    },
    {
     "cell_type": "code",
     "collapsed": false,
     "input": [
      "# sum cols\n",
      "np.sum(x, axis=0)\n"
     ],
     "language": "python",
     "metadata": {},
     "outputs": []
    },
    {
     "cell_type": "code",
     "collapsed": false,
     "input": [
      "np.dot(x[0],x[1])"
     ],
     "language": "python",
     "metadata": {},
     "outputs": [
      {
       "metadata": {},
       "output_type": "pyout",
       "prompt_number": 113,
       "text": [
        "1.0484283541570412"
       ]
      }
     ],
     "prompt_number": 113
    },
    {
     "cell_type": "code",
     "collapsed": false,
     "input": [
      "np.dot(x, x)"
     ],
     "language": "python",
     "metadata": {},
     "outputs": [
      {
       "metadata": {},
       "output_type": "pyout",
       "prompt_number": 115,
       "text": [
        "array([[ 1.00857748,  1.47674322,  0.99993125,  0.62785765,  1.44153184],\n",
        "       [ 0.99350925,  1.6748932 ,  1.08346105,  1.43293169,  1.55658952],\n",
        "       [ 0.8530117 ,  1.82777186,  1.70800088,  1.48567226,  1.32329866],\n",
        "       [ 1.156655  ,  1.99629208,  1.22065268,  1.25535665,  1.57761192],\n",
        "       [ 0.9801377 ,  1.33326075,  1.09231534,  0.9094004 ,  1.03391983]])"
       ]
      }
     ],
     "prompt_number": 115
    },
    {
     "cell_type": "code",
     "collapsed": false,
     "input": [
      "# transforms with array.T, identity with np.eye... "
     ],
     "language": "python",
     "metadata": {},
     "outputs": []
    },
    {
     "cell_type": "code",
     "collapsed": false,
     "input": [
      "e = np.array(range(5)).shape\n",
      "e"
     ],
     "language": "python",
     "metadata": {},
     "outputs": [
      {
       "metadata": {},
       "output_type": "pyout",
       "prompt_number": 119,
       "text": [
        "(5,)"
       ]
      }
     ],
     "prompt_number": 119
    },
    {
     "cell_type": "code",
     "collapsed": false,
     "input": [
      "# this is annoying, but it sometimes needs to be done\n",
      "np.atleast_1d(e)"
     ],
     "language": "python",
     "metadata": {},
     "outputs": [
      {
       "metadata": {},
       "output_type": "pyout",
       "prompt_number": 118,
       "text": [
        "array([ 2.71828183])"
       ]
      }
     ],
     "prompt_number": 118
    },
    {
     "cell_type": "markdown",
     "metadata": {},
     "source": [
      "## Pair Programming Exercises\n",
      "* create a 10 x 10 matrix of random values\n",
      "* output a vector containing the sum of each row, and one containing the average of each row\n",
      "* output a vector containing the sum of each column, and one containing the average of each column\n",
      "* multiply each cell in your matrix by 100\n",
      "* compute the standard deviation of your new matrix (see [numpy docs](http://docs.scipy.org/doc/numpy/reference/generated/numpy.std.html))\n",
      "* output the centroid vector of your matrix\n",
      "    * if you get this far, determine which row in your matrix is closest to the centroid using tfidf - see [docs](http://docs.scipy.org/doc/scipy/reference/generated/scipy.spatial.distance.cosine.html)"
     ]
    },
    {
     "cell_type": "code",
     "collapsed": false,
     "input": [
      "# write code here"
     ],
     "language": "python",
     "metadata": {},
     "outputs": [],
     "prompt_number": 110
    },
    {
     "cell_type": "markdown",
     "metadata": {},
     "source": []
    }
   ],
   "metadata": {}
  }
 ]
}