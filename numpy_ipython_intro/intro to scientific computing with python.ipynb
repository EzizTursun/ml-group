{
 "metadata": {
  "name": ""
 },
 "nbformat": 3,
 "nbformat_minor": 0,
 "worksheets": [
  {
   "cells": [
    {
     "cell_type": "code",
     "collapsed": false,
     "input": [
      "# about the python scientific computing stack\n",
      "\n",
      "# this stack is especially good if you like to do 'exploratory' programming"
     ],
     "language": "python",
     "metadata": {},
     "outputs": [],
     "prompt_number": 50
    },
    {
     "cell_type": "code",
     "collapsed": false,
     "input": [
      "# prevent confusing errors\n",
      "from __future__ import print_function, division\n",
      "import pprint, os\n",
      "pp = pprint.PrettyPrinter(indent=4)\n",
      "\n",
      "# todo: also add 2to3 here?"
     ],
     "language": "python",
     "metadata": {},
     "outputs": [],
     "prompt_number": 51
    },
    {
     "cell_type": "markdown",
     "metadata": {},
     "source": [
      "\n",
      "from [the Scikit-learn docs](http://scikit-learn.org/stable/datasets/#downloading-datasets-from-the-mldata-org-repository)\n",
      "\n",
      "The sklearn.datasets.fetch_20newsgroups function is a data fetching / caching functions that downloads the data archive from the original 20 newsgroups website, extracts the archive contents in the ~/scikit_learn_data/20news_home folder and calls the sklearn.datasets.load_file on either the training or testing set folder, or both of them"
     ]
    },
    {
     "cell_type": "code",
     "collapsed": false,
     "input": [
      "# importing datasets (lots of sample data here: http://mldata.org/)\n",
      "# note: pandas can be really helpful for this\n",
      "import numpy as np\n",
      "import scipy as sp\n",
      "import sklearn"
     ],
     "language": "python",
     "metadata": {},
     "outputs": [],
     "prompt_number": 52
    },
    {
     "cell_type": "code",
     "collapsed": false,
     "input": [
      "# working with numpy\n",
      "\n",
      "x = np.random.random((5,5))\n",
      "x"
     ],
     "language": "python",
     "metadata": {},
     "outputs": [
      {
       "metadata": {},
       "output_type": "pyout",
       "prompt_number": 53,
       "text": [
        "array([[ 0.10196195,  0.81952536,  0.55428981,  0.49305578,  0.02242183],\n",
        "       [ 0.34156488,  0.6903674 ,  0.6586678 ,  0.12696935,  0.89788936],\n",
        "       [ 0.74890357,  0.89143877,  0.02693999,  0.4921808 ,  0.9018222 ],\n",
        "       [ 0.60711593,  0.66346797,  0.77193093,  0.36626217,  0.39838886],\n",
        "       [ 0.16985788,  0.27504822,  0.36046341,  0.89785888,  0.31682416]])"
       ]
      }
     ],
     "prompt_number": 53
    },
    {
     "cell_type": "code",
     "collapsed": false,
     "input": [
      "# creating an array (vector)\n",
      "a = np.array(range(10))\n",
      "a"
     ],
     "language": "python",
     "metadata": {},
     "outputs": [
      {
       "metadata": {},
       "output_type": "pyout",
       "prompt_number": 54,
       "text": [
        "array([0, 1, 2, 3, 4, 5, 6, 7, 8, 9])"
       ]
      }
     ],
     "prompt_number": 54
    },
    {
     "cell_type": "code",
     "collapsed": false,
     "input": [
      "# note that the \"axis\" keyword argument is the axis we're operating ALONG\n",
      "# so axis=0 operates downward (along rows), and axis=1 operates across (along columns)\n",
      "# sum rows\n",
      "row_sums = np.sum(x, axis=1)\n",
      "normalized_sums = row_sums / np.max(row_sums)\n",
      "\n",
      "np.average(x)\n",
      "centered = x - np.average(x)\n",
      "centered\n",
      "\n",
      "# sum cols\n",
      "#  np.sum(x, axis=0) / np.max(np.sum(x, axis\n"
     ],
     "language": "python",
     "metadata": {},
     "outputs": [
      {
       "metadata": {},
       "output_type": "pyout",
       "prompt_number": 55,
       "text": [
        "array([[-0.40184674,  0.31571667,  0.05048112, -0.01075291, -0.48138686],\n",
        "       [-0.16224381,  0.18655871,  0.15485911, -0.37683934,  0.39408067],\n",
        "       [ 0.24509488,  0.38763008, -0.4768687 , -0.01162789,  0.39801351],\n",
        "       [ 0.10330724,  0.15965928,  0.26812224, -0.13754652, -0.10541983],\n",
        "       [-0.33395081, -0.22876047, -0.14334528,  0.39405019, -0.18698453]])"
       ]
      }
     ],
     "prompt_number": 55
    },
    {
     "cell_type": "code",
     "collapsed": false,
     "input": [
      "# define a custom home for our data (just lets us keep the data on github, instead of downloading it again)\n",
      "custom_data_home = str(os.path.join(os.getcwd(), 'data'))\n",
      "newsgroups = sklearn.datasets.fetch_20newsgroups(subset='all', data_home=custom_data_home)"
     ],
     "language": "python",
     "metadata": {},
     "outputs": [],
     "prompt_number": 56
    },
    {
     "cell_type": "code",
     "collapsed": false,
     "input": [
      "# investigate the structure of this data\n",
      "pp.pprint(newsgroups.keys())"
     ],
     "language": "python",
     "metadata": {},
     "outputs": [
      {
       "output_type": "stream",
       "stream": "stdout",
       "text": [
        "['DESCR', 'data', 'target', 'target_names', 'filenames']\n"
       ]
      }
     ],
     "prompt_number": 57
    },
    {
     "cell_type": "code",
     "collapsed": false,
     "input": [
      "pp.pprint(newsgroups.target_names)"
     ],
     "language": "python",
     "metadata": {},
     "outputs": [
      {
       "output_type": "stream",
       "stream": "stdout",
       "text": [
        "[   'alt.atheism',\n",
        "    'comp.graphics',\n",
        "    'comp.os.ms-windows.misc',\n",
        "    'comp.sys.ibm.pc.hardware',\n",
        "    'comp.sys.mac.hardware',\n",
        "    'comp.windows.x',\n",
        "    'misc.forsale',\n",
        "    'rec.autos',\n",
        "    'rec.motorcycles',\n",
        "    'rec.sport.baseball',\n",
        "    'rec.sport.hockey',\n",
        "    'sci.crypt',\n",
        "    'sci.electronics',\n",
        "    'sci.med',\n",
        "    'sci.space',\n",
        "    'soc.religion.christian',\n",
        "    'talk.politics.guns',\n",
        "    'talk.politics.mideast',\n",
        "    'talk.politics.misc',\n",
        "    'talk.religion.misc']\n"
       ]
      }
     ],
     "prompt_number": 58
    },
    {
     "cell_type": "code",
     "collapsed": false,
     "input": [
      "# ok, let's randomly select 5 of those categories\n",
      "categories = list(np.random.choice(newsgroups.target_names, 5))\n",
      "categories"
     ],
     "language": "python",
     "metadata": {},
     "outputs": [
      {
       "metadata": {},
       "output_type": "pyout",
       "prompt_number": 60,
       "text": [
        "['talk.politics.misc',\n",
        " 'rec.autos',\n",
        " 'rec.sport.baseball',\n",
        " 'misc.forsale',\n",
        " 'comp.windows.x']"
       ]
      }
     ],
     "prompt_number": 60
    },
    {
     "cell_type": "code",
     "collapsed": false,
     "input": [
      "# now let's deal only with those categories\n",
      "newsgroups_pruned = sklearn.datasets.fetch_20newsgroups(remove=('headers', 'footers', 'quotes'),\n",
      "                                     categories=categories)"
     ],
     "language": "python",
     "metadata": {},
     "outputs": [],
     "prompt_number": 61
    },
    {
     "cell_type": "code",
     "collapsed": false,
     "input": [
      "# sanity check\n",
      "assert(newsgroups_pruned.filenames.shape == newsgroups_pruned.target.shape)"
     ],
     "language": "python",
     "metadata": {},
     "outputs": [],
     "prompt_number": 62
    },
    {
     "cell_type": "code",
     "collapsed": false,
     "input": [
      "# let's take a look at the distribution of the categories in our data\n",
      "from itertools import groupby\n",
      "\n",
      "category_values = list(newsgroups.target)\n",
      "# always sort before groupby\n",
      "category_values.sort()\n",
      "groups = groupby(category_values)\n",
      "\n",
      "# map groups to (category, group_size) tuples\n",
      "group_counts = [(newsgroups.target_names[k], len(list((g))) ) for k,g in groups]\n",
      "print(group_counts)"
     ],
     "language": "python",
     "metadata": {},
     "outputs": [
      {
       "output_type": "stream",
       "stream": "stdout",
       "text": [
        "[('alt.atheism', 799), ('comp.graphics', 973), ('comp.os.ms-windows.misc', 985), ('comp.sys.ibm.pc.hardware', 982), ('comp.sys.mac.hardware', 963), ('comp.windows.x', 988), ('misc.forsale', 975), ('rec.autos', 990), ('rec.motorcycles', 996), ('rec.sport.baseball', 994), ('rec.sport.hockey', 999), ('sci.crypt', 991), ('sci.electronics', 984), ('sci.med', 990), ('sci.space', 987), ('soc.religion.christian', 997), ('talk.politics.guns', 910), ('talk.politics.mideast', 940), ('talk.politics.misc', 775), ('talk.religion.misc', 628)]\n"
       ]
      }
     ],
     "prompt_number": 88
    },
    {
     "cell_type": "code",
     "collapsed": false,
     "input": [
      "# visualizing your data\n",
      "import matplotlib.pyplot as plt\n",
      "from pylab import *\n",
      "\n",
      "# notebook magic\n",
      "%matplotlib inline"
     ],
     "language": "python",
     "metadata": {},
     "outputs": [],
     "prompt_number": 89
    },
    {
     "cell_type": "code",
     "collapsed": false,
     "input": [
      "n_groups = len(group_counts)\n",
      "\n",
      "# sort to make visualization better\n",
      "group_counts = sorted(group_counts, key=lambda x: x[1], reverse=True)\n",
      "group_names=[g[0] for g in group_counts]\n",
      "g_counts=[g[1] for g in group_counts]\n",
      "\n",
      "index = np.arange(n_groups)\n",
      "bar_width = 0.1\n",
      "\n",
      "opacity = 0.4\n",
      "error_config = {'ecolor': '0.3'}\n",
      "\n",
      "rects1 = plt.bar(index, g_counts, bar_width,\n",
      "                 alpha=opacity,\n",
      "                 color='b')\n",
      "\n",
      "plt.xlabel('Group')\n",
      "plt.ylabel('Count')\n",
      "plt.show()"
     ],
     "language": "python",
     "metadata": {},
     "outputs": [
      {
       "metadata": {},
       "output_type": "display_data",
       "png": "[encoded data removed]",
       "text": [
        "<matplotlib.figure.Figure at 0x7ad9f90>"
       ]
      }
     ],
     "prompt_number": 95
    },
    {
     "cell_type": "code",
     "collapsed": false,
     "input": [
      "# I want to know which category had fewer entries\n",
      "group_counts[-1]"
     ],
     "language": "python",
     "metadata": {},
     "outputs": [
      {
       "metadata": {},
       "output_type": "pyout",
       "prompt_number": 96,
       "text": [
        "('talk.religion.misc', 628)"
       ]
      }
     ],
     "prompt_number": 96
    },
    {
     "cell_type": "code",
     "collapsed": false,
     "input": [],
     "language": "python",
     "metadata": {},
     "outputs": []
    },
    {
     "cell_type": "code",
     "collapsed": false,
     "input": [
      "# creating slides from your ipython notebook"
     ],
     "language": "python",
     "metadata": {},
     "outputs": []
    },
    {
     "cell_type": "code",
     "collapsed": false,
     "input": [
      "# Notes and gotchas"
     ],
     "language": "python",
     "metadata": {},
     "outputs": []
    },
    {
     "cell_type": "markdown",
     "metadata": {},
     "source": [
      "see [Classification Pipelines](http://scikit-learn.org/stable/auto_examples/grid_search_text_feature_extraction.html#example-grid-search-text-feature-extraction-py) for a more advanced example"
     ]
    }
   ],
   "metadata": {}
  }
 ]
}