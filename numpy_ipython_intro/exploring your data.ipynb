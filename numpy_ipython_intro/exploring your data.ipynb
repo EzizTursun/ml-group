{
 "metadata": {
  "name": ""
 },
 "nbformat": 3,
 "nbformat_minor": 0,
 "worksheets": [
  {
   "cells": [
    {
     "cell_type": "markdown",
     "metadata": {},
     "source": [
      "\n",
      "from [the Scikit-learn docs](http://scikit-learn.org/stable/datasets/#downloading-datasets-from-the-mldata-org-repository)\n",
      "\n",
      "The sklearn.datasets.fetch_20newsgroups function is a data fetching / caching functions that downloads the data archive from the original 20 newsgroups website, extracts the archive contents in the ~/scikit_learn_data/20news_home folder and calls the sklearn.datasets.load_file on either the training or testing set folder, or both of them"
     ]
    },
    {
     "cell_type": "code",
     "collapsed": false,
     "input": [
      "# prevent confusing errors\n",
      "from __future__ import print_function, division\n",
      "import os"
     ],
     "language": "python",
     "metadata": {},
     "outputs": [],
     "prompt_number": 4
    },
    {
     "cell_type": "code",
     "collapsed": false,
     "input": [
      "# importing datasets (lots of sample data here: http://mldata.org/)\n",
      "# note: pandas can be really helpful for this\n",
      "import numpy as np\n",
      "import scipy as sp\n",
      "from sklearn.datasets import fetch_20newsgroups, fetch_20newsgroups_vectorized"
     ],
     "language": "python",
     "metadata": {},
     "outputs": [],
     "prompt_number": 7
    },
    {
     "cell_type": "code",
     "collapsed": false,
     "input": [
      "# define a custom home for our data (just lets us keep the data on github, instead of downloading it again)\n",
      "custom_data_home = str(os.path.join(os.getcwd(), 'data'))\n",
      "newsgroups = fetch_20newsgroups(subset='all', data_home=custom_data_home)"
     ],
     "language": "python",
     "metadata": {},
     "outputs": [],
     "prompt_number": 9
    },
    {
     "cell_type": "code",
     "collapsed": false,
     "input": [
      "# investigate the structure of this data\n",
      "newsgroups.keys()"
     ],
     "language": "python",
     "metadata": {},
     "outputs": [
      {
       "metadata": {},
       "output_type": "pyout",
       "prompt_number": 10,
       "text": [
        "['DESCR', 'data', 'target', 'target_names', 'filenames']"
       ]
      }
     ],
     "prompt_number": 10
    },
    {
     "cell_type": "code",
     "collapsed": false,
     "input": [
      "# what are those fields?\n",
      "newsgroups.target_names"
     ],
     "language": "python",
     "metadata": {},
     "outputs": []
    },
    {
     "cell_type": "markdown",
     "metadata": {},
     "source": [
      "__Visualizing your dataset__                 \n",
      "Visualization is a really important part of understanding your data. Exploratory vizualization can really help you to understand what you've got"
     ]
    },
    {
     "cell_type": "code",
     "collapsed": false,
     "input": [
      "# let's take a look at the distribution of the categories in our data\n",
      "from itertools import groupby\n",
      "\n",
      "category_values = list(newsgroups.target)\n",
      "# always sort before groupby\n",
      "category_values.sort()\n",
      "groups = groupby(category_values)\n",
      "\n",
      "# map groups to (category, group_size) tuples\n",
      "group_counts = [(newsgroups.target_names[k], len(list((g))) ) for k,g in groups]\n",
      "print(group_counts)"
     ],
     "language": "python",
     "metadata": {},
     "outputs": [
      {
       "output_type": "stream",
       "stream": "stdout",
       "text": [
        "[('alt.atheism', 799), ('comp.graphics', 973), ('comp.os.ms-windows.misc', 985), ('comp.sys.ibm.pc.hardware', 982), ('comp.sys.mac.hardware', 963), ('comp.windows.x', 988), ('misc.forsale', 975), ('rec.autos', 990), ('rec.motorcycles', 996), ('rec.sport.baseball', 994), ('rec.sport.hockey', 999), ('sci.crypt', 991), ('sci.electronics', 984), ('sci.med', 990), ('sci.space', 987), ('soc.religion.christian', 997), ('talk.politics.guns', 910), ('talk.politics.mideast', 940), ('talk.politics.misc', 775), ('talk.religion.misc', 628)]\n"
       ]
      }
     ],
     "prompt_number": 20
    },
    {
     "cell_type": "code",
     "collapsed": false,
     "input": [
      "# visualizing your data\n",
      "import matplotlib.pyplot as plt\n",
      "from pylab import *\n",
      "\n",
      "# notebook magic\n",
      "%matplotlib inline\n",
      "\n",
      "n_groups = len(group_counts)\n",
      "\n",
      "# sort to make visualization better\n",
      "group_counts = sorted(group_counts, key=lambda x: x[1], reverse=True)\n",
      "group_names=[g[0] for g in group_counts]\n",
      "g_counts=[g[1] for g in group_counts]\n",
      "\n",
      "index = np.arange(n_groups)\n",
      "bar_width = 0.1\n",
      "\n",
      "opacity = 0.4\n",
      "error_config = {'ecolor': '0.3'}\n",
      "\n",
      "rects1 = plt.bar(index, g_counts, bar_width,\n",
      "                 alpha=opacity,\n",
      "                 color='b')\n",
      "\n",
      "plt.xlabel('Group')\n",
      "plt.ylabel('Count')\n",
      "plt.show()"
     ],
     "language": "python",
     "metadata": {},
     "outputs": [
      {
       "metadata": {},
       "output_type": "display_data",
       "png": "[encoded data removed]",
       "text": [
        "<matplotlib.figure.Figure at 0x5b9ca90>"
       ]
      }
     ],
     "prompt_number": 21
    },
    {
     "cell_type": "code",
     "collapsed": false,
     "input": [
      "# I want to know which category had fewer entries\n",
      "group_counts[-1]"
     ],
     "language": "python",
     "metadata": {},
     "outputs": [
      {
       "metadata": {},
       "output_type": "pyout",
       "prompt_number": 23,
       "text": [
        "('talk.religion.misc', 628)"
       ]
      }
     ],
     "prompt_number": 23
    },
    {
     "cell_type": "code",
     "collapsed": false,
     "input": [
      "# ok, let's randomly select 5 of those categories\n",
      "categories = list(np.random.choice(newsgroups.target_names, 5))\n",
      "categories"
     ],
     "language": "python",
     "metadata": {},
     "outputs": [
      {
       "metadata": {},
       "output_type": "pyout",
       "prompt_number": 12,
       "text": [
        "['soc.religion.christian',\n",
        " 'rec.autos',\n",
        " 'talk.politics.mideast',\n",
        " 'rec.autos',\n",
        " 'sci.space']"
       ]
      }
     ],
     "prompt_number": 12
    },
    {
     "cell_type": "code",
     "collapsed": false,
     "input": [
      "# now let's deal only with those categories (note - this will grab from the cached directory)\n",
      "# note also the 'removed' keyword argument\n",
      "newsgroups_pruned = fetch_20newsgroups(remove=('headers', 'footers', 'quotes'),\n",
      "                                     categories=categories, data_home=custom_data_home)\n",
      "newsgroups_pruned.target_names\n"
     ],
     "language": "python",
     "metadata": {},
     "outputs": [
      {
       "metadata": {},
       "output_type": "pyout",
       "prompt_number": 16,
       "text": [
        "['rec.autos',\n",
        " 'rec.autos',\n",
        " 'sci.space',\n",
        " 'soc.religion.christian',\n",
        " 'talk.politics.mideast']"
       ]
      }
     ],
     "prompt_number": 16
    },
    {
     "cell_type": "code",
     "collapsed": false,
     "input": [
      "# sanity check\n",
      "assert(newsgroups_pruned.filenames.shape == newsgroups_pruned.target.shape)"
     ],
     "language": "python",
     "metadata": {},
     "outputs": [],
     "prompt_number": 17
    },
    {
     "cell_type": "code",
     "collapsed": false,
     "input": [
      "# let's just grab the vectorized versions\n",
      "newsgroup_vectors = fetch_20newsgroups_vectorized(subset='all', data_home=custom_data_home)"
     ],
     "language": "python",
     "metadata": {},
     "outputs": [],
     "prompt_number": 19
    },
    {
     "cell_type": "code",
     "collapsed": false,
     "input": [
      "newsgroup_vectors.keys()"
     ],
     "language": "python",
     "metadata": {},
     "outputs": [
      {
       "metadata": {},
       "output_type": "pyout",
       "prompt_number": 22,
       "text": [
        "['data', 'target', 'target_names']"
       ]
      }
     ],
     "prompt_number": 22
    },
    {
     "cell_type": "code",
     "collapsed": false,
     "input": [
      "# cool, let's look for some clusters in there\n"
     ],
     "language": "python",
     "metadata": {},
     "outputs": []
    }
   ],
   "metadata": {}
  }
 ]
}